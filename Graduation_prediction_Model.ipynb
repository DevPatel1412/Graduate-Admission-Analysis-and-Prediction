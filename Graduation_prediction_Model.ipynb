{
 "cells": [
  {
   "cell_type": "markdown",
   "id": "NepkCmadyKG8",
   "metadata": {
    "id": "NepkCmadyKG8"
   },
   "source": [
    "#**GRADUATE** **ADMISSION** **PREDICTION**"
   ]
  },
  {
   "cell_type": "code",
   "execution_count": 1,
   "id": "7e287d0e",
   "metadata": {
    "id": "7e287d0e"
   },
   "outputs": [],
   "source": [
    "import numpy as np\n",
    "import pandas as pd \n",
    "import matplotlib.pyplot as plt\n",
    "import seaborn as sns"
   ]
  },
  {
   "cell_type": "markdown",
   "id": "54abe605",
   "metadata": {
    "id": "54abe605"
   },
   "source": [
    "#The parameters included are :\n",
    "    1.GRE Scores ( out of 340 )\n",
    "    2.TOEFL Scores ( out of 120 )\n",
    "    3.University Rating ( out of 5 )\n",
    "    4.Statement of Purpose \n",
    "    5.Letter of Recommendation Strength ( out of 5 )\n",
    "    6.Undergraduate GPA/CGPA ( out of 10 )\n",
    "    7.Research Experience ( either 0 or 1 )\n",
    "    8.Chance of Admit ( ranging from 0 to 1 )"
   ]
  },
  {
   "cell_type": "markdown",
   "id": "DPUX_4Z94jGC",
   "metadata": {
    "id": "DPUX_4Z94jGC"
   },
   "source": [
    "# Data Loading"
   ]
  },
  {
   "cell_type": "code",
   "execution_count": 2,
   "id": "UqiLumZbcypL",
   "metadata": {
    "colab": {
     "base_uri": "https://localhost:8080/"
    },
    "id": "UqiLumZbcypL",
    "outputId": "5a6ebe13-2fdf-4798-a190-b119b9cf3080"
   },
   "outputs": [
    {
     "ename": "ModuleNotFoundError",
     "evalue": "No module named 'google.colab'",
     "output_type": "error",
     "traceback": [
      "\u001b[1;31m---------------------------------------------------------------------------\u001b[0m",
      "\u001b[1;31mModuleNotFoundError\u001b[0m                       Traceback (most recent call last)",
      "Input \u001b[1;32mIn [2]\u001b[0m, in \u001b[0;36m<cell line: 1>\u001b[1;34m()\u001b[0m\n\u001b[1;32m----> 1\u001b[0m \u001b[38;5;28;01mfrom\u001b[39;00m \u001b[38;5;21;01mgoogle\u001b[39;00m\u001b[38;5;21;01m.\u001b[39;00m\u001b[38;5;21;01mcolab\u001b[39;00m \u001b[38;5;28;01mimport\u001b[39;00m drive\n\u001b[0;32m      2\u001b[0m drive\u001b[38;5;241m.\u001b[39mmount(\u001b[38;5;124m'\u001b[39m\u001b[38;5;124m/content/drive\u001b[39m\u001b[38;5;124m'\u001b[39m)\n",
      "\u001b[1;31mModuleNotFoundError\u001b[0m: No module named 'google.colab'"
     ]
    }
   ],
   "source": [
    "#from google.colab import drive\n",
    "#drive.mount('/content/drive')"
   ]
  },
  {
   "cell_type": "code",
   "execution_count": 3,
   "id": "b6981b5c",
   "metadata": {
    "colab": {
     "base_uri": "https://localhost:8080/"
    },
    "id": "b6981b5c",
    "outputId": "f35d4e62-0943-4ecf-cdda-a71d630423f3"
   },
   "outputs": [
    {
     "data": {
      "text/html": [
       "<div>\n",
       "<style scoped>\n",
       "    .dataframe tbody tr th:only-of-type {\n",
       "        vertical-align: middle;\n",
       "    }\n",
       "\n",
       "    .dataframe tbody tr th {\n",
       "        vertical-align: top;\n",
       "    }\n",
       "\n",
       "    .dataframe thead th {\n",
       "        text-align: right;\n",
       "    }\n",
       "</style>\n",
       "<table border=\"1\" class=\"dataframe\">\n",
       "  <thead>\n",
       "    <tr style=\"text-align: right;\">\n",
       "      <th></th>\n",
       "      <th>GRE Score</th>\n",
       "      <th>TOEFL Score</th>\n",
       "      <th>University Rating</th>\n",
       "      <th>SOP</th>\n",
       "      <th>LOR</th>\n",
       "      <th>CGPA</th>\n",
       "      <th>Research</th>\n",
       "      <th>Chance_of_Admit</th>\n",
       "    </tr>\n",
       "  </thead>\n",
       "  <tbody>\n",
       "    <tr>\n",
       "      <th>0</th>\n",
       "      <td>337</td>\n",
       "      <td>118</td>\n",
       "      <td>4</td>\n",
       "      <td>4.5</td>\n",
       "      <td>4.5</td>\n",
       "      <td>9.65</td>\n",
       "      <td>1</td>\n",
       "      <td>0.92</td>\n",
       "    </tr>\n",
       "    <tr>\n",
       "      <th>1</th>\n",
       "      <td>324</td>\n",
       "      <td>107</td>\n",
       "      <td>4</td>\n",
       "      <td>4.0</td>\n",
       "      <td>4.5</td>\n",
       "      <td>8.87</td>\n",
       "      <td>1</td>\n",
       "      <td>0.76</td>\n",
       "    </tr>\n",
       "    <tr>\n",
       "      <th>2</th>\n",
       "      <td>316</td>\n",
       "      <td>104</td>\n",
       "      <td>3</td>\n",
       "      <td>3.0</td>\n",
       "      <td>3.5</td>\n",
       "      <td>8.00</td>\n",
       "      <td>1</td>\n",
       "      <td>0.72</td>\n",
       "    </tr>\n",
       "    <tr>\n",
       "      <th>3</th>\n",
       "      <td>322</td>\n",
       "      <td>110</td>\n",
       "      <td>3</td>\n",
       "      <td>3.5</td>\n",
       "      <td>2.5</td>\n",
       "      <td>8.67</td>\n",
       "      <td>1</td>\n",
       "      <td>0.80</td>\n",
       "    </tr>\n",
       "    <tr>\n",
       "      <th>4</th>\n",
       "      <td>314</td>\n",
       "      <td>103</td>\n",
       "      <td>2</td>\n",
       "      <td>2.0</td>\n",
       "      <td>3.0</td>\n",
       "      <td>8.21</td>\n",
       "      <td>0</td>\n",
       "      <td>0.65</td>\n",
       "    </tr>\n",
       "    <tr>\n",
       "      <th>...</th>\n",
       "      <td>...</td>\n",
       "      <td>...</td>\n",
       "      <td>...</td>\n",
       "      <td>...</td>\n",
       "      <td>...</td>\n",
       "      <td>...</td>\n",
       "      <td>...</td>\n",
       "      <td>...</td>\n",
       "    </tr>\n",
       "    <tr>\n",
       "      <th>495</th>\n",
       "      <td>332</td>\n",
       "      <td>108</td>\n",
       "      <td>5</td>\n",
       "      <td>4.5</td>\n",
       "      <td>4.0</td>\n",
       "      <td>9.02</td>\n",
       "      <td>1</td>\n",
       "      <td>0.87</td>\n",
       "    </tr>\n",
       "    <tr>\n",
       "      <th>496</th>\n",
       "      <td>337</td>\n",
       "      <td>117</td>\n",
       "      <td>5</td>\n",
       "      <td>5.0</td>\n",
       "      <td>5.0</td>\n",
       "      <td>9.87</td>\n",
       "      <td>1</td>\n",
       "      <td>0.96</td>\n",
       "    </tr>\n",
       "    <tr>\n",
       "      <th>497</th>\n",
       "      <td>330</td>\n",
       "      <td>120</td>\n",
       "      <td>5</td>\n",
       "      <td>4.5</td>\n",
       "      <td>5.0</td>\n",
       "      <td>9.56</td>\n",
       "      <td>1</td>\n",
       "      <td>0.93</td>\n",
       "    </tr>\n",
       "    <tr>\n",
       "      <th>498</th>\n",
       "      <td>312</td>\n",
       "      <td>103</td>\n",
       "      <td>4</td>\n",
       "      <td>4.0</td>\n",
       "      <td>5.0</td>\n",
       "      <td>8.43</td>\n",
       "      <td>0</td>\n",
       "      <td>0.73</td>\n",
       "    </tr>\n",
       "    <tr>\n",
       "      <th>499</th>\n",
       "      <td>327</td>\n",
       "      <td>113</td>\n",
       "      <td>4</td>\n",
       "      <td>4.5</td>\n",
       "      <td>4.5</td>\n",
       "      <td>9.04</td>\n",
       "      <td>0</td>\n",
       "      <td>0.84</td>\n",
       "    </tr>\n",
       "  </tbody>\n",
       "</table>\n",
       "<p>500 rows × 8 columns</p>\n",
       "</div>"
      ],
      "text/plain": [
       "     GRE Score  TOEFL Score  University Rating  SOP  LOR   CGPA  Research  \\\n",
       "0          337          118                  4  4.5   4.5  9.65         1   \n",
       "1          324          107                  4  4.0   4.5  8.87         1   \n",
       "2          316          104                  3  3.0   3.5  8.00         1   \n",
       "3          322          110                  3  3.5   2.5  8.67         1   \n",
       "4          314          103                  2  2.0   3.0  8.21         0   \n",
       "..         ...          ...                ...  ...   ...   ...       ...   \n",
       "495        332          108                  5  4.5   4.0  9.02         1   \n",
       "496        337          117                  5  5.0   5.0  9.87         1   \n",
       "497        330          120                  5  4.5   5.0  9.56         1   \n",
       "498        312          103                  4  4.0   5.0  8.43         0   \n",
       "499        327          113                  4  4.5   4.5  9.04         0   \n",
       "\n",
       "     Chance_of_Admit  \n",
       "0               0.92  \n",
       "1               0.76  \n",
       "2               0.72  \n",
       "3               0.80  \n",
       "4               0.65  \n",
       "..               ...  \n",
       "495             0.87  \n",
       "496             0.96  \n",
       "497             0.93  \n",
       "498             0.73  \n",
       "499             0.84  \n",
       "\n",
       "[500 rows x 8 columns]"
      ]
     },
     "execution_count": 3,
     "metadata": {},
     "output_type": "execute_result"
    }
   ],
   "source": [
    "df=pd.read_csv(r\"C:\\Users\\Dev Patel\\Documents\\Collage_files\\Team_4331 (COE) Project\\admission_data.csv\")\n",
    "df"
   ]
  },
  {
   "cell_type": "code",
   "execution_count": 4,
   "id": "f8b95e2b",
   "metadata": {
    "colab": {
     "base_uri": "https://localhost:8080/"
    },
    "id": "f8b95e2b",
    "outputId": "da1655d9-68da-4833-9103-c30b95dc95ba",
    "scrolled": true
   },
   "outputs": [
    {
     "name": "stdout",
     "output_type": "stream",
     "text": [
      "<class 'pandas.core.frame.DataFrame'>\n",
      "RangeIndex: 500 entries, 0 to 499\n",
      "Data columns (total 8 columns):\n",
      " #   Column             Non-Null Count  Dtype  \n",
      "---  ------             --------------  -----  \n",
      " 0   GRE Score          500 non-null    int64  \n",
      " 1   TOEFL Score        500 non-null    int64  \n",
      " 2   University Rating  500 non-null    int64  \n",
      " 3   SOP                500 non-null    float64\n",
      " 4   LOR                500 non-null    float64\n",
      " 5   CGPA               500 non-null    float64\n",
      " 6   Research           500 non-null    int64  \n",
      " 7   Chance_of_Admit    500 non-null    float64\n",
      "dtypes: float64(4), int64(4)\n",
      "memory usage: 31.4 KB\n"
     ]
    }
   ],
   "source": [
    "#metadata\n",
    "df.info()"
   ]
  },
  {
   "cell_type": "markdown",
   "id": "4e76fa57",
   "metadata": {
    "id": "4e76fa57"
   },
   "source": [
    "# Insights from metadata\n",
    "    1. No Null values\n",
    "    2. No need of other pre processing    "
   ]
  },
  {
   "cell_type": "markdown",
   "id": "XP7F9MUYylcK",
   "metadata": {
    "id": "XP7F9MUYylcK"
   },
   "source": [
    "# Data Exploration"
   ]
  },
  {
   "cell_type": "code",
   "execution_count": 5,
   "id": "665db76b",
   "metadata": {
    "colab": {
     "base_uri": "https://localhost:8080/"
    },
    "id": "665db76b",
    "outputId": "9172022f-adaf-4402-9549-693b5ea55367",
    "scrolled": true
   },
   "outputs": [
    {
     "data": {
      "text/html": [
       "<div>\n",
       "<style scoped>\n",
       "    .dataframe tbody tr th:only-of-type {\n",
       "        vertical-align: middle;\n",
       "    }\n",
       "\n",
       "    .dataframe tbody tr th {\n",
       "        vertical-align: top;\n",
       "    }\n",
       "\n",
       "    .dataframe thead th {\n",
       "        text-align: right;\n",
       "    }\n",
       "</style>\n",
       "<table border=\"1\" class=\"dataframe\">\n",
       "  <thead>\n",
       "    <tr style=\"text-align: right;\">\n",
       "      <th></th>\n",
       "      <th>GRE Score</th>\n",
       "      <th>TOEFL Score</th>\n",
       "      <th>University Rating</th>\n",
       "      <th>SOP</th>\n",
       "      <th>LOR</th>\n",
       "      <th>CGPA</th>\n",
       "      <th>Research</th>\n",
       "      <th>Chance_of_Admit</th>\n",
       "    </tr>\n",
       "  </thead>\n",
       "  <tbody>\n",
       "    <tr>\n",
       "      <th>count</th>\n",
       "      <td>500.000000</td>\n",
       "      <td>500.000000</td>\n",
       "      <td>500.000000</td>\n",
       "      <td>500.000000</td>\n",
       "      <td>500.00000</td>\n",
       "      <td>500.000000</td>\n",
       "      <td>500.000000</td>\n",
       "      <td>500.00000</td>\n",
       "    </tr>\n",
       "    <tr>\n",
       "      <th>mean</th>\n",
       "      <td>316.472000</td>\n",
       "      <td>107.192000</td>\n",
       "      <td>3.114000</td>\n",
       "      <td>3.374000</td>\n",
       "      <td>3.48400</td>\n",
       "      <td>8.576440</td>\n",
       "      <td>0.560000</td>\n",
       "      <td>0.72174</td>\n",
       "    </tr>\n",
       "    <tr>\n",
       "      <th>std</th>\n",
       "      <td>11.295148</td>\n",
       "      <td>6.081868</td>\n",
       "      <td>1.143512</td>\n",
       "      <td>0.991004</td>\n",
       "      <td>0.92545</td>\n",
       "      <td>0.604813</td>\n",
       "      <td>0.496884</td>\n",
       "      <td>0.14114</td>\n",
       "    </tr>\n",
       "    <tr>\n",
       "      <th>min</th>\n",
       "      <td>290.000000</td>\n",
       "      <td>92.000000</td>\n",
       "      <td>1.000000</td>\n",
       "      <td>1.000000</td>\n",
       "      <td>1.00000</td>\n",
       "      <td>6.800000</td>\n",
       "      <td>0.000000</td>\n",
       "      <td>0.34000</td>\n",
       "    </tr>\n",
       "    <tr>\n",
       "      <th>25%</th>\n",
       "      <td>308.000000</td>\n",
       "      <td>103.000000</td>\n",
       "      <td>2.000000</td>\n",
       "      <td>2.500000</td>\n",
       "      <td>3.00000</td>\n",
       "      <td>8.127500</td>\n",
       "      <td>0.000000</td>\n",
       "      <td>0.63000</td>\n",
       "    </tr>\n",
       "    <tr>\n",
       "      <th>50%</th>\n",
       "      <td>317.000000</td>\n",
       "      <td>107.000000</td>\n",
       "      <td>3.000000</td>\n",
       "      <td>3.500000</td>\n",
       "      <td>3.50000</td>\n",
       "      <td>8.560000</td>\n",
       "      <td>1.000000</td>\n",
       "      <td>0.72000</td>\n",
       "    </tr>\n",
       "    <tr>\n",
       "      <th>75%</th>\n",
       "      <td>325.000000</td>\n",
       "      <td>112.000000</td>\n",
       "      <td>4.000000</td>\n",
       "      <td>4.000000</td>\n",
       "      <td>4.00000</td>\n",
       "      <td>9.040000</td>\n",
       "      <td>1.000000</td>\n",
       "      <td>0.82000</td>\n",
       "    </tr>\n",
       "    <tr>\n",
       "      <th>max</th>\n",
       "      <td>340.000000</td>\n",
       "      <td>120.000000</td>\n",
       "      <td>5.000000</td>\n",
       "      <td>5.000000</td>\n",
       "      <td>5.00000</td>\n",
       "      <td>9.920000</td>\n",
       "      <td>1.000000</td>\n",
       "      <td>0.97000</td>\n",
       "    </tr>\n",
       "  </tbody>\n",
       "</table>\n",
       "</div>"
      ],
      "text/plain": [
       "        GRE Score  TOEFL Score  University Rating         SOP       LOR   \\\n",
       "count  500.000000   500.000000         500.000000  500.000000  500.00000   \n",
       "mean   316.472000   107.192000           3.114000    3.374000    3.48400   \n",
       "std     11.295148     6.081868           1.143512    0.991004    0.92545   \n",
       "min    290.000000    92.000000           1.000000    1.000000    1.00000   \n",
       "25%    308.000000   103.000000           2.000000    2.500000    3.00000   \n",
       "50%    317.000000   107.000000           3.000000    3.500000    3.50000   \n",
       "75%    325.000000   112.000000           4.000000    4.000000    4.00000   \n",
       "max    340.000000   120.000000           5.000000    5.000000    5.00000   \n",
       "\n",
       "             CGPA    Research  Chance_of_Admit  \n",
       "count  500.000000  500.000000        500.00000  \n",
       "mean     8.576440    0.560000          0.72174  \n",
       "std      0.604813    0.496884          0.14114  \n",
       "min      6.800000    0.000000          0.34000  \n",
       "25%      8.127500    0.000000          0.63000  \n",
       "50%      8.560000    1.000000          0.72000  \n",
       "75%      9.040000    1.000000          0.82000  \n",
       "max      9.920000    1.000000          0.97000  "
      ]
     },
     "execution_count": 5,
     "metadata": {},
     "output_type": "execute_result"
    }
   ],
   "source": [
    "df.describe()"
   ]
  },
  {
   "cell_type": "code",
   "execution_count": 6,
   "id": "a9e621b5",
   "metadata": {
    "colab": {
     "base_uri": "https://localhost:8080/"
    },
    "id": "a9e621b5",
    "outputId": "b2a5486e-f88f-4e45-c789-2ac9c77a909c"
   },
   "outputs": [
    {
     "data": {
      "text/plain": [
       "<AxesSubplot:>"
      ]
     },
     "execution_count": 6,
     "metadata": {},
     "output_type": "execute_result"
    },
    {
     "data": {
      "image/png": "[encoded data removed]",
      "text/plain": [
       "<Figure size 432x288 with 2 Axes>"
      ]
     },
     "metadata": {
      "needs_background": "light"
     },
     "output_type": "display_data"
    }
   ],
   "source": [
    "sns.heatmap(df.corr(),annot=True)"
   ]
  },
  {
   "cell_type": "code",
   "execution_count": 7,
   "id": "2253a6c4",
   "metadata": {
    "colab": {
     "base_uri": "https://localhost:8080/"
    },
    "id": "2253a6c4",
    "outputId": "53023132-7473-4d8f-c789-4d03279bdc2e",
    "scrolled": true
   },
   "outputs": [
    {
     "data": {
      "text/plain": [
       "Index(['GRE Score', 'TOEFL Score', 'University Rating', 'SOP', 'LOR ', 'CGPA',\n",
       "       'Research', 'Chance_of_Admit'],\n",
       "      dtype='object')"
      ]
     },
     "execution_count": 7,
     "metadata": {},
     "output_type": "execute_result"
    }
   ],
   "source": [
    "df.columns"
   ]
  },
  {
   "cell_type": "code",
   "execution_count": 8,
   "id": "562dadff",
   "metadata": {
    "id": "562dadff"
   },
   "outputs": [],
   "source": [
    "col_name=['GRE Score', 'TOEFL Score', 'University Rating', 'SOP', 'LOR ', 'CGPA',\n",
    "       'Research', 'Chance_of_Admit']"
   ]
  },
  {
   "cell_type": "code",
   "execution_count": 9,
   "id": "0418370a",
   "metadata": {
    "colab": {
     "base_uri": "https://localhost:8080/"
    },
    "id": "0418370a",
    "outputId": "6b21344b-bbfa-4667-9070-9a08ab1d3d82"
   },
   "outputs": [
    {
     "data": {
      "image/png": "[encoded data removed]",
      "text/plain": [
       "<Figure size 432x288 with 8 Axes>"
      ]
     },
     "metadata": {
      "needs_background": "light"
     },
     "output_type": "display_data"
    }
   ],
   "source": [
    "#explore\n",
    "for i in range(8):\n",
    "  plt.subplot(4,2,i+1)\n",
    "  plt.boxplot(df[col_name[i]])\n",
    "  plt.title(\"Columns :{}\".format(col_name[i]))\n",
    "  plt.subplots_adjust(wspace=1,hspace=1)\n"
   ]
  },
  {
   "cell_type": "code",
   "execution_count": 10,
   "id": "33fac1d7",
   "metadata": {
    "colab": {
     "base_uri": "https://localhost:8080/"
    },
    "id": "33fac1d7",
    "outputId": "26704c49-b892-4882-c721-a6992f21c998"
   },
   "outputs": [
    {
     "data": {
      "image/png": "[encoded data removed]",
      "text/plain": [
       "<Figure size 432x288 with 8 Axes>"
      ]
     },
     "metadata": {
      "needs_background": "light"
     },
     "output_type": "display_data"
    }
   ],
   "source": [
    "#explore\n",
    "for i in range(8):\n",
    "  plt.subplot(4,2,i+1)\n",
    "  plt.hist(df[col_name[i]])\n",
    "  plt.title(\"Columns :{}\".format(col_name[i]))\n",
    "  plt.subplots_adjust(wspace=1,hspace=1)\n",
    " "
   ]
  },
  {
   "cell_type": "code",
   "execution_count": 11,
   "id": "7a2a46b0",
   "metadata": {
    "id": "7a2a46b0",
    "scrolled": true
   },
   "outputs": [],
   "source": [
    "# sns.boxplot('Chance_of_Admit',data=df)"
   ]
  },
  {
   "cell_type": "code",
   "execution_count": 12,
   "id": "iUxOzQw2UY6j",
   "metadata": {
    "colab": {
     "base_uri": "https://localhost:8080/"
    },
    "id": "iUxOzQw2UY6j",
    "outputId": "e33fa246-22fd-4dca-bd41-bce1997388ea"
   },
   "outputs": [
    {
     "name": "stderr",
     "output_type": "stream",
     "text": [
      "C:\\Users\\Dev Patel\\anaconda3\\lib\\site-packages\\seaborn\\_decorators.py:36: FutureWarning: Pass the following variable as a keyword arg: x. From version 0.12, the only valid positional argument will be `data`, and passing other arguments without an explicit keyword will result in an error or misinterpretation.\n",
      "  warnings.warn(\n"
     ]
    },
    {
     "data": {
      "text/plain": [
       "<AxesSubplot:xlabel='Chance_of_Admit'>"
      ]
     },
     "execution_count": 12,
     "metadata": {},
     "output_type": "execute_result"
    },
    {
     "data": {
      "image/png": "[encoded data removed]",
      "text/plain": [
       "<Figure size 432x288 with 1 Axes>"
      ]
     },
     "metadata": {
      "needs_background": "light"
     },
     "output_type": "display_data"
    }
   ],
   "source": [
    "sns.boxplot('Chance_of_Admit',data=df)"
   ]
  },
  {
   "cell_type": "code",
   "execution_count": 13,
   "id": "421050ca",
   "metadata": {
    "colab": {
     "base_uri": "https://localhost:8080/"
    },
    "id": "421050ca",
    "outputId": "56da04d9-178a-4624-d600-11963b7c9819",
    "scrolled": true
   },
   "outputs": [
    {
     "name": "stderr",
     "output_type": "stream",
     "text": [
      "C:\\Users\\Dev Patel\\anaconda3\\lib\\site-packages\\seaborn\\_decorators.py:36: FutureWarning: Pass the following variable as a keyword arg: x. From version 0.12, the only valid positional argument will be `data`, and passing other arguments without an explicit keyword will result in an error or misinterpretation.\n",
      "  warnings.warn(\n"
     ]
    },
    {
     "data": {
      "text/plain": [
       "<AxesSubplot:xlabel='LOR '>"
      ]
     },
     "execution_count": 13,
     "metadata": {},
     "output_type": "execute_result"
    },
    {
     "data": {
      "image/png": "[encoded data removed]",
      "text/plain": [
       "<Figure size 432x288 with 1 Axes>"
      ]
     },
     "metadata": {
      "needs_background": "light"
     },
     "output_type": "display_data"
    }
   ],
   "source": [
    "sns.boxplot('LOR ',data=df)"
   ]
  },
  {
   "cell_type": "markdown",
   "id": "19946d78",
   "metadata": {
    "id": "19946d78"
   },
   "source": [
    "# Insights from data Exploration \n",
    "    1. Negligible outliers #how?\n",
    "    "
   ]
  },
  {
   "cell_type": "markdown",
   "id": "d2e4d7ca",
   "metadata": {
    "id": "d2e4d7ca"
   },
   "source": [
    "# Multiple Linear Regression (attempt1)\n"
   ]
  },
  {
   "cell_type": "code",
   "execution_count": 14,
   "id": "47c8d188",
   "metadata": {
    "id": "47c8d188"
   },
   "outputs": [],
   "source": [
    "from sklearn.model_selection import train_test_split\n",
    "from sklearn.linear_model import LinearRegression"
   ]
  },
  {
   "cell_type": "code",
   "execution_count": 15,
   "id": "948db2bf",
   "metadata": {
    "id": "948db2bf"
   },
   "outputs": [],
   "source": [
    "MLR=LinearRegression()"
   ]
  },
  {
   "cell_type": "code",
   "execution_count": 16,
   "id": "084d349f",
   "metadata": {
    "id": "084d349f"
   },
   "outputs": [],
   "source": [
    "x= df.iloc[:, :-1].values  \n",
    "y= df.iloc[:, 4].values    "
   ]
  },
  {
   "cell_type": "code",
   "execution_count": 17,
   "id": "kag_GYceUtHV",
   "metadata": {
    "colab": {
     "base_uri": "https://localhost:8080/"
    },
    "id": "kag_GYceUtHV",
    "outputId": "66c5de6d-2bae-4d73-bc91-8489687447d5"
   },
   "outputs": [
    {
     "data": {
      "text/html": [
       "<div>\n",
       "<style scoped>\n",
       "    .dataframe tbody tr th:only-of-type {\n",
       "        vertical-align: middle;\n",
       "    }\n",
       "\n",
       "    .dataframe tbody tr th {\n",
       "        vertical-align: top;\n",
       "    }\n",
       "\n",
       "    .dataframe thead th {\n",
       "        text-align: right;\n",
       "    }\n",
       "</style>\n",
       "<table border=\"1\" class=\"dataframe\">\n",
       "  <thead>\n",
       "    <tr style=\"text-align: right;\">\n",
       "      <th></th>\n",
       "      <th>GRE Score</th>\n",
       "      <th>TOEFL Score</th>\n",
       "      <th>University Rating</th>\n",
       "      <th>SOP</th>\n",
       "      <th>LOR</th>\n",
       "      <th>CGPA</th>\n",
       "      <th>Research</th>\n",
       "      <th>Chance_of_Admit</th>\n",
       "    </tr>\n",
       "  </thead>\n",
       "  <tbody>\n",
       "    <tr>\n",
       "      <th>0</th>\n",
       "      <td>337</td>\n",
       "      <td>118</td>\n",
       "      <td>4</td>\n",
       "      <td>4.5</td>\n",
       "      <td>4.5</td>\n",
       "      <td>9.65</td>\n",
       "      <td>1</td>\n",
       "      <td>0.92</td>\n",
       "    </tr>\n",
       "    <tr>\n",
       "      <th>1</th>\n",
       "      <td>324</td>\n",
       "      <td>107</td>\n",
       "      <td>4</td>\n",
       "      <td>4.0</td>\n",
       "      <td>4.5</td>\n",
       "      <td>8.87</td>\n",
       "      <td>1</td>\n",
       "      <td>0.76</td>\n",
       "    </tr>\n",
       "    <tr>\n",
       "      <th>2</th>\n",
       "      <td>316</td>\n",
       "      <td>104</td>\n",
       "      <td>3</td>\n",
       "      <td>3.0</td>\n",
       "      <td>3.5</td>\n",
       "      <td>8.00</td>\n",
       "      <td>1</td>\n",
       "      <td>0.72</td>\n",
       "    </tr>\n",
       "    <tr>\n",
       "      <th>3</th>\n",
       "      <td>322</td>\n",
       "      <td>110</td>\n",
       "      <td>3</td>\n",
       "      <td>3.5</td>\n",
       "      <td>2.5</td>\n",
       "      <td>8.67</td>\n",
       "      <td>1</td>\n",
       "      <td>0.80</td>\n",
       "    </tr>\n",
       "    <tr>\n",
       "      <th>4</th>\n",
       "      <td>314</td>\n",
       "      <td>103</td>\n",
       "      <td>2</td>\n",
       "      <td>2.0</td>\n",
       "      <td>3.0</td>\n",
       "      <td>8.21</td>\n",
       "      <td>0</td>\n",
       "      <td>0.65</td>\n",
       "    </tr>\n",
       "  </tbody>\n",
       "</table>\n",
       "</div>"
      ],
      "text/plain": [
       "   GRE Score  TOEFL Score  University Rating  SOP  LOR   CGPA  Research  \\\n",
       "0        337          118                  4  4.5   4.5  9.65         1   \n",
       "1        324          107                  4  4.0   4.5  8.87         1   \n",
       "2        316          104                  3  3.0   3.5  8.00         1   \n",
       "3        322          110                  3  3.5   2.5  8.67         1   \n",
       "4        314          103                  2  2.0   3.0  8.21         0   \n",
       "\n",
       "   Chance_of_Admit  \n",
       "0             0.92  \n",
       "1             0.76  \n",
       "2             0.72  \n",
       "3             0.80  \n",
       "4             0.65  "
      ]
     },
     "execution_count": 17,
     "metadata": {},
     "output_type": "execute_result"
    }
   ],
   "source": [
    "df.head()"
   ]
  },
  {
   "cell_type": "code",
   "execution_count": 18,
   "id": "IVRueOnkUnN2",
   "metadata": {
    "colab": {
     "base_uri": "https://localhost:8080/"
    },
    "id": "IVRueOnkUnN2",
    "outputId": "e0f7763e-795f-4523-fb05-a922fa0386b1"
   },
   "outputs": [
    {
     "name": "stdout",
     "output_type": "stream",
     "text": [
      "[[337.   118.     4.   ...   4.5    9.65   1.  ]\n",
      " [324.   107.     4.   ...   4.5    8.87   1.  ]\n",
      " [316.   104.     3.   ...   3.5    8.     1.  ]\n",
      " ...\n",
      " [330.   120.     5.   ...   5.     9.56   1.  ]\n",
      " [312.   103.     4.   ...   5.     8.43   0.  ]\n",
      " [327.   113.     4.   ...   4.5    9.04   0.  ]]\n"
     ]
    }
   ],
   "source": [
    "print(x)"
   ]
  },
  {
   "cell_type": "code",
   "execution_count": 19,
   "id": "0aad3c61",
   "metadata": {
    "id": "0aad3c61"
   },
   "outputs": [],
   "source": [
    "x_train, x_test, y_train, y_test= train_test_split(x, y, test_size= 0.2, random_state=0) "
   ]
  },
  {
   "cell_type": "code",
   "execution_count": 20,
   "id": "4f56ced1",
   "metadata": {
    "colab": {
     "base_uri": "https://localhost:8080/"
    },
    "id": "4f56ced1",
    "outputId": "dbef18ea-2533-48a3-bfe9-438c389b54bd"
   },
   "outputs": [
    {
     "data": {
      "text/plain": [
       "LinearRegression()"
      ]
     },
     "execution_count": 20,
     "metadata": {},
     "output_type": "execute_result"
    }
   ],
   "source": [
    "MLR.fit(x_train,y_train)"
   ]
  },
  {
   "cell_type": "code",
   "execution_count": 21,
   "id": "2f3f2eff",
   "metadata": {
    "id": "2f3f2eff"
   },
   "outputs": [],
   "source": [
    "y_pred= MLR.predict(x_test)  "
   ]
  },
  {
   "cell_type": "code",
   "execution_count": 22,
   "id": "fbf01a70",
   "metadata": {
    "colab": {
     "base_uri": "https://localhost:8080/"
    },
    "id": "fbf01a70",
    "outputId": "d0ceab13-7cbb-469a-e264-8a5bccbe8e00"
   },
   "outputs": [
    {
     "name": "stdout",
     "output_type": "stream",
     "text": [
      "Train Score:  1.0\n",
      "Test Score:  1.0\n"
     ]
    }
   ],
   "source": [
    "print('Train Score: ', MLR.score(x_train, y_train))  \n",
    "print('Test Score: ', MLR.score(x_test, y_test))  "
   ]
  },
  {
   "cell_type": "code",
   "execution_count": 23,
   "id": "wiO-iHzNhWtL",
   "metadata": {
    "colab": {
     "base_uri": "https://localhost:8080/"
    },
    "id": "wiO-iHzNhWtL",
    "outputId": "16c60dce-c8a9-48b2-b58b-6fbde509882d"
   },
   "outputs": [
    {
     "data": {
      "text/plain": [
       "100"
      ]
     },
     "execution_count": 23,
     "metadata": {},
     "output_type": "execute_result"
    }
   ],
   "source": [
    "len(y_test)"
   ]
  },
  {
   "cell_type": "code",
   "execution_count": 24,
   "id": "cvHeK-V0hZVf",
   "metadata": {
    "colab": {
     "base_uri": "https://localhost:8080/"
    },
    "id": "cvHeK-V0hZVf",
    "outputId": "85e4c937-aaca-4153-af9b-eb32de92dc92"
   },
   "outputs": [
    {
     "data": {
      "text/plain": [
       "100"
      ]
     },
     "execution_count": 24,
     "metadata": {},
     "output_type": "execute_result"
    }
   ],
   "source": [
    "len(y_pred)"
   ]
  },
  {
   "cell_type": "code",
   "execution_count": 25,
   "id": "2904bbed",
   "metadata": {
    "id": "2904bbed"
   },
   "outputs": [],
   "source": [
    "from sklearn.metrics import accuracy_score\n",
    "import sklearn.metrics as metrics"
   ]
  },
  {
   "cell_type": "code",
   "execution_count": 26,
   "id": "oJcAQXvxjn11",
   "metadata": {
    "colab": {
     "base_uri": "https://localhost:8080/"
    },
    "id": "oJcAQXvxjn11",
    "outputId": "4ea6279b-2a17-449c-83d8-5cedc0793a2f"
   },
   "outputs": [
    {
     "name": "stdout",
     "output_type": "stream",
     "text": [
      "Results of sklearn.metrics:\n",
      "MAE: 5.750955267558311e-16\n",
      "MSE: 5.881944124554169e-31\n",
      "RMSE: 7.6693833680121695e-16\n",
      "R-Squared: 1.0\n"
     ]
    }
   ],
   "source": [
    "mae = metrics.mean_absolute_error(y_test,y_pred)\n",
    "mse = metrics.mean_squared_error(y_test,y_pred)\n",
    "rmse = np.sqrt(mse) # or mse**(0.5)  \n",
    "r2 = metrics.r2_score(y_test,y_pred)\n",
    "\n",
    "print(\"Results of sklearn.metrics:\")\n",
    "print(\"MAE:\",mae)\n",
    "print(\"MSE:\", mse)\n",
    "print(\"RMSE:\", rmse)\n",
    "print(\"R-Squared:\", r2)"
   ]
  },
  {
   "cell_type": "markdown",
   "id": "chTNKCqxeawI",
   "metadata": {
    "id": "chTNKCqxeawI"
   },
   "source": []
  },
  {
   "cell_type": "code",
   "execution_count": 27,
   "id": "0e86fb12",
   "metadata": {
    "id": "0e86fb12"
   },
   "outputs": [],
   "source": [
    "# MLR.predict([[337.,118.,4.,3.,4.5,9.65,1. ]])\n",
    "# GRE Score\tTOEFL Score\tUniversity Rating\tSOP\tLOR\tCGPA\tResearch"
   ]
  },
  {
   "cell_type": "code",
   "execution_count": 28,
   "id": "O-qIvD75VlaA",
   "metadata": {
    "id": "O-qIvD75VlaA"
   },
   "outputs": [],
   "source": [
    "# MLR.predict([[337,\t118,\t4,\t4.5,\t4.5,\t9.65,0\t]])"
   ]
  },
  {
   "cell_type": "code",
   "execution_count": 29,
   "id": "K9ckeVssV-f4",
   "metadata": {
    "id": "K9ckeVssV-f4"
   },
   "outputs": [],
   "source": [
    "from sklearn.metrics import mean_absolute_error, mean_squared_error\n",
    "mae=mean_absolute_error(y_test,y_pred)\n",
    "mse=mean_squared_error(y_test,y_pred)\n",
    "rmse=np.sqrt(mse)"
   ]
  },
  {
   "cell_type": "code",
   "execution_count": 30,
   "id": "yfl2Edmrhi_V",
   "metadata": {
    "colab": {
     "base_uri": "https://localhost:8080/"
    },
    "id": "yfl2Edmrhi_V",
    "outputId": "ad17d67b-917a-4115-9fa2-f8a88c9d560e"
   },
   "outputs": [
    {
     "data": {
      "text/plain": [
       "5.750955267558311e-16"
      ]
     },
     "execution_count": 30,
     "metadata": {},
     "output_type": "execute_result"
    }
   ],
   "source": [
    "mae"
   ]
  },
  {
   "cell_type": "code",
   "execution_count": 31,
   "id": "9o_QOktshjgl",
   "metadata": {
    "colab": {
     "base_uri": "https://localhost:8080/"
    },
    "id": "9o_QOktshjgl",
    "outputId": "e6fef1e0-8050-4d3a-e1e5-230814c9bc70"
   },
   "outputs": [
    {
     "data": {
      "text/plain": [
       "5.881944124554169e-31"
      ]
     },
     "execution_count": 31,
     "metadata": {},
     "output_type": "execute_result"
    }
   ],
   "source": [
    "mse"
   ]
  },
  {
   "cell_type": "code",
   "execution_count": 32,
   "id": "wwI6vErYhl0o",
   "metadata": {
    "colab": {
     "base_uri": "https://localhost:8080/"
    },
    "id": "wwI6vErYhl0o",
    "outputId": "f7f5a6ec-d65e-4742-917c-b286694cd231"
   },
   "outputs": [
    {
     "data": {
      "text/plain": [
       "7.6693833680121695e-16"
      ]
     },
     "execution_count": 32,
     "metadata": {},
     "output_type": "execute_result"
    }
   ],
   "source": [
    "rmse"
   ]
  },
  {
   "cell_type": "code",
   "execution_count": null,
   "id": "seVbevQ1hmng",
   "metadata": {
    "id": "seVbevQ1hmng"
   },
   "outputs": [],
   "source": []
  },
  {
   "cell_type": "markdown",
   "id": "xuTZvPojep-Z",
   "metadata": {
    "id": "xuTZvPojep-Z"
   },
   "source": [
    "# Multiple Linear Regression (attempt 2 KIRTAN)"
   ]
  },
  {
   "cell_type": "markdown",
   "id": "qTlh2JkElf0s",
   "metadata": {
    "id": "qTlh2JkElf0s"
   },
   "source": [
    "## GRE"
   ]
  },
  {
   "cell_type": "code",
   "execution_count": 33,
   "id": "YBdKAFf1e3lW",
   "metadata": {
    "colab": {
     "base_uri": "https://localhost:8080/"
    },
    "id": "YBdKAFf1e3lW",
    "outputId": "62754184-9b0a-446c-b8d3-b099f42bf026"
   },
   "outputs": [
    {
     "data": {
      "text/plain": [
       "Index(['GRE Score', 'TOEFL Score', 'University Rating', 'SOP', 'LOR ', 'CGPA',\n",
       "       'Research', 'Chance_of_Admit'],\n",
       "      dtype='object')"
      ]
     },
     "execution_count": 33,
     "metadata": {},
     "output_type": "execute_result"
    }
   ],
   "source": [
    "df.columns"
   ]
  },
  {
   "cell_type": "code",
   "execution_count": 34,
   "id": "PR8haAY7eseJ",
   "metadata": {
    "colab": {
     "base_uri": "https://localhost:8080/"
    },
    "id": "PR8haAY7eseJ",
    "outputId": "a620982d-af03-49f8-8b7e-127006a3bb4e"
   },
   "outputs": [
    {
     "data": {
      "text/html": [
       "<div>\n",
       "<style scoped>\n",
       "    .dataframe tbody tr th:only-of-type {\n",
       "        vertical-align: middle;\n",
       "    }\n",
       "\n",
       "    .dataframe tbody tr th {\n",
       "        vertical-align: top;\n",
       "    }\n",
       "\n",
       "    .dataframe thead th {\n",
       "        text-align: right;\n",
       "    }\n",
       "</style>\n",
       "<table border=\"1\" class=\"dataframe\">\n",
       "  <thead>\n",
       "    <tr style=\"text-align: right;\">\n",
       "      <th></th>\n",
       "      <th>GRE Score</th>\n",
       "      <th>University Rating</th>\n",
       "      <th>SOP</th>\n",
       "      <th>LOR</th>\n",
       "      <th>CGPA</th>\n",
       "      <th>Research</th>\n",
       "      <th>Chance_of_Admit</th>\n",
       "    </tr>\n",
       "  </thead>\n",
       "  <tbody>\n",
       "    <tr>\n",
       "      <th>0</th>\n",
       "      <td>337</td>\n",
       "      <td>4</td>\n",
       "      <td>4.5</td>\n",
       "      <td>4.5</td>\n",
       "      <td>9.65</td>\n",
       "      <td>1</td>\n",
       "      <td>0.92</td>\n",
       "    </tr>\n",
       "    <tr>\n",
       "      <th>1</th>\n",
       "      <td>324</td>\n",
       "      <td>4</td>\n",
       "      <td>4.0</td>\n",
       "      <td>4.5</td>\n",
       "      <td>8.87</td>\n",
       "      <td>1</td>\n",
       "      <td>0.76</td>\n",
       "    </tr>\n",
       "    <tr>\n",
       "      <th>2</th>\n",
       "      <td>316</td>\n",
       "      <td>3</td>\n",
       "      <td>3.0</td>\n",
       "      <td>3.5</td>\n",
       "      <td>8.00</td>\n",
       "      <td>1</td>\n",
       "      <td>0.72</td>\n",
       "    </tr>\n",
       "    <tr>\n",
       "      <th>3</th>\n",
       "      <td>322</td>\n",
       "      <td>3</td>\n",
       "      <td>3.5</td>\n",
       "      <td>2.5</td>\n",
       "      <td>8.67</td>\n",
       "      <td>1</td>\n",
       "      <td>0.80</td>\n",
       "    </tr>\n",
       "    <tr>\n",
       "      <th>4</th>\n",
       "      <td>314</td>\n",
       "      <td>2</td>\n",
       "      <td>2.0</td>\n",
       "      <td>3.0</td>\n",
       "      <td>8.21</td>\n",
       "      <td>0</td>\n",
       "      <td>0.65</td>\n",
       "    </tr>\n",
       "    <tr>\n",
       "      <th>...</th>\n",
       "      <td>...</td>\n",
       "      <td>...</td>\n",
       "      <td>...</td>\n",
       "      <td>...</td>\n",
       "      <td>...</td>\n",
       "      <td>...</td>\n",
       "      <td>...</td>\n",
       "    </tr>\n",
       "    <tr>\n",
       "      <th>495</th>\n",
       "      <td>332</td>\n",
       "      <td>5</td>\n",
       "      <td>4.5</td>\n",
       "      <td>4.0</td>\n",
       "      <td>9.02</td>\n",
       "      <td>1</td>\n",
       "      <td>0.87</td>\n",
       "    </tr>\n",
       "    <tr>\n",
       "      <th>496</th>\n",
       "      <td>337</td>\n",
       "      <td>5</td>\n",
       "      <td>5.0</td>\n",
       "      <td>5.0</td>\n",
       "      <td>9.87</td>\n",
       "      <td>1</td>\n",
       "      <td>0.96</td>\n",
       "    </tr>\n",
       "    <tr>\n",
       "      <th>497</th>\n",
       "      <td>330</td>\n",
       "      <td>5</td>\n",
       "      <td>4.5</td>\n",
       "      <td>5.0</td>\n",
       "      <td>9.56</td>\n",
       "      <td>1</td>\n",
       "      <td>0.93</td>\n",
       "    </tr>\n",
       "    <tr>\n",
       "      <th>498</th>\n",
       "      <td>312</td>\n",
       "      <td>4</td>\n",
       "      <td>4.0</td>\n",
       "      <td>5.0</td>\n",
       "      <td>8.43</td>\n",
       "      <td>0</td>\n",
       "      <td>0.73</td>\n",
       "    </tr>\n",
       "    <tr>\n",
       "      <th>499</th>\n",
       "      <td>327</td>\n",
       "      <td>4</td>\n",
       "      <td>4.5</td>\n",
       "      <td>4.5</td>\n",
       "      <td>9.04</td>\n",
       "      <td>0</td>\n",
       "      <td>0.84</td>\n",
       "    </tr>\n",
       "  </tbody>\n",
       "</table>\n",
       "<p>500 rows × 7 columns</p>\n",
       "</div>"
      ],
      "text/plain": [
       "     GRE Score  University Rating  SOP  LOR   CGPA  Research  Chance_of_Admit\n",
       "0          337                  4  4.5   4.5  9.65         1             0.92\n",
       "1          324                  4  4.0   4.5  8.87         1             0.76\n",
       "2          316                  3  3.0   3.5  8.00         1             0.72\n",
       "3          322                  3  3.5   2.5  8.67         1             0.80\n",
       "4          314                  2  2.0   3.0  8.21         0             0.65\n",
       "..         ...                ...  ...   ...   ...       ...              ...\n",
       "495        332                  5  4.5   4.0  9.02         1             0.87\n",
       "496        337                  5  5.0   5.0  9.87         1             0.96\n",
       "497        330                  5  4.5   5.0  9.56         1             0.93\n",
       "498        312                  4  4.0   5.0  8.43         0             0.73\n",
       "499        327                  4  4.5   4.5  9.04         0             0.84\n",
       "\n",
       "[500 rows x 7 columns]"
      ]
     },
     "execution_count": 34,
     "metadata": {},
     "output_type": "execute_result"
    }
   ],
   "source": [
    "df_gre=df.drop([\"TOEFL Score\"],axis=1)\n",
    "df_gre"
   ]
  },
  {
   "cell_type": "code",
   "execution_count": 35,
   "id": "xZUgNOzKe1OA",
   "metadata": {
    "colab": {
     "base_uri": "https://localhost:8080/"
    },
    "id": "xZUgNOzKe1OA",
    "outputId": "8c57d115-e1b0-44f8-cffb-2fbe15d9892d"
   },
   "outputs": [
    {
     "data": {
      "text/plain": [
       "<AxesSubplot:>"
      ]
     },
     "execution_count": 35,
     "metadata": {},
     "output_type": "execute_result"
    },
    {
     "data": {
      "image/png": "[encoded data removed]",
      "text/plain": [
       "<Figure size 432x288 with 2 Axes>"
      ]
     },
     "metadata": {
      "needs_background": "light"
     },
     "output_type": "display_data"
    }
   ],
   "source": [
    "sns.heatmap(df_gre.corr(),annot=True,cmap=\"plasma\")"
   ]
  },
  {
   "cell_type": "code",
   "execution_count": 36,
   "id": "m9fB1zGtfC8f",
   "metadata": {
    "colab": {
     "base_uri": "https://localhost:8080/"
    },
    "id": "m9fB1zGtfC8f",
    "outputId": "e5f2b238-6666-4605-e3af-ca749c4c15dc"
   },
   "outputs": [
    {
     "data": {
      "text/plain": [
       "<AxesSubplot:xlabel='CGPA', ylabel='Chance_of_Admit'>"
      ]
     },
     "execution_count": 36,
     "metadata": {},
     "output_type": "execute_result"
    },
    {
     "data": {
      "image/png": "[encoded data removed]",
      "text/plain": [
       "<Figure size 432x288 with 1 Axes>"
      ]
     },
     "metadata": {
      "needs_background": "light"
     },
     "output_type": "display_data"
    }
   ],
   "source": [
    "sns.scatterplot(x=\"CGPA\",y=\"Chance_of_Admit\",data=df_gre,hue=\"Research\")"
   ]
  },
  {
   "cell_type": "code",
   "execution_count": 37,
   "id": "ZuJuEwT7fzsV",
   "metadata": {
    "colab": {
     "base_uri": "https://localhost:8080/"
    },
    "id": "ZuJuEwT7fzsV",
    "outputId": "927b1768-295f-42fe-9827-b863a48385eb"
   },
   "outputs": [
    {
     "data": {
      "text/plain": [
       "<AxesSubplot:xlabel='GRE Score', ylabel='Chance_of_Admit'>"
      ]
     },
     "execution_count": 37,
     "metadata": {},
     "output_type": "execute_result"
    },
    {
     "data": {
      "image/png": "[encoded data removed]",
      "text/plain": [
       "<Figure size 432x288 with 1 Axes>"
      ]
     },
     "metadata": {
      "needs_background": "light"
     },
     "output_type": "display_data"
    }
   ],
   "source": [
    "sns.scatterplot(x=\"GRE Score\",y=\"Chance_of_Admit\",data=df_gre,hue=\"CGPA\")"
   ]
  },
  {
   "cell_type": "code",
   "execution_count": 38,
   "id": "6_TKhr7Weewd",
   "metadata": {
    "colab": {
     "base_uri": "https://localhost:8080/"
    },
    "id": "6_TKhr7Weewd",
    "outputId": "57e8ca36-2139-45cc-a1ff-8d270d2fc127"
   },
   "outputs": [
    {
     "data": {
      "text/plain": [
       "<AxesSubplot:xlabel='GRE Score', ylabel='Chance_of_Admit'>"
      ]
     },
     "execution_count": 38,
     "metadata": {},
     "output_type": "execute_result"
    },
    {
     "data": {
      "image/png": "[encoded data removed]",
      "text/plain": [
       "<Figure size 432x288 with 1 Axes>"
      ]
     },
     "metadata": {
      "needs_background": "light"
     },
     "output_type": "display_data"
    }
   ],
   "source": [
    "sns.scatterplot(x=\"GRE Score\",y=\"Chance_of_Admit\",data=df_gre,hue=\"CGPA\")"
   ]
  },
  {
   "cell_type": "code",
   "execution_count": 39,
   "id": "NvKDtjCdjtC-",
   "metadata": {
    "colab": {
     "base_uri": "https://localhost:8080/"
    },
    "id": "NvKDtjCdjtC-",
    "outputId": "dfdd4b04-24a7-427f-bc6d-43c8dcf18b8f"
   },
   "outputs": [
    {
     "data": {
      "text/plain": [
       "(500, 7)"
      ]
     },
     "execution_count": 39,
     "metadata": {},
     "output_type": "execute_result"
    }
   ],
   "source": [
    "df_gre.shape"
   ]
  },
  {
   "cell_type": "code",
   "execution_count": 40,
   "id": "WHNeJVtRhvIf",
   "metadata": {
    "colab": {
     "base_uri": "https://localhost:8080/"
    },
    "id": "WHNeJVtRhvIf",
    "outputId": "53916586-9bbf-453e-81b1-fe5e2c8cd8eb"
   },
   "outputs": [
    {
     "data": {
      "text/plain": [
       "Index(['GRE Score', 'University Rating', 'SOP', 'LOR ', 'CGPA', 'Research',\n",
       "       'Chance_of_Admit'],\n",
       "      dtype='object')"
      ]
     },
     "execution_count": 40,
     "metadata": {},
     "output_type": "execute_result"
    }
   ],
   "source": [
    "df_gre.columns"
   ]
  },
  {
   "cell_type": "code",
   "execution_count": 46,
   "id": "iUx31XedjRfy",
   "metadata": {
    "id": "iUx31XedjRfy"
   },
   "outputs": [],
   "source": [
    "X=df_gre.drop('Chance_of_Admit',axis=1)\n",
    "y=df_gre['Chance_of_Admit']"
   ]
  },
  {
   "cell_type": "code",
   "execution_count": 47,
   "id": "4o_oiEWSh7S5",
   "metadata": {
    "colab": {
     "base_uri": "https://localhost:8080/"
    },
    "id": "4o_oiEWSh7S5",
    "outputId": "4812c9a6-c7fd-41c6-dc3c-cf5f493aba0c"
   },
   "outputs": [
    {
     "data": {
      "text/plain": [
       "0      0.92\n",
       "1      0.76\n",
       "2      0.72\n",
       "3      0.80\n",
       "4      0.65\n",
       "       ... \n",
       "495    0.87\n",
       "496    0.96\n",
       "497    0.93\n",
       "498    0.73\n",
       "499    0.84\n",
       "Name: Chance_of_Admit, Length: 500, dtype: float64"
      ]
     },
     "execution_count": 47,
     "metadata": {},
     "output_type": "execute_result"
    }
   ],
   "source": [
    "y"
   ]
  },
  {
   "cell_type": "code",
   "execution_count": 48,
   "id": "dmrrgsUDhQqC",
   "metadata": {
    "colab": {
     "base_uri": "https://localhost:8080/"
    },
    "id": "dmrrgsUDhQqC",
    "outputId": "a223ffec-63ff-4d21-b6c5-94543bf7bc58"
   },
   "outputs": [
    {
     "data": {
      "text/plain": [
       "Index(['GRE Score', 'University Rating', 'SOP', 'LOR ', 'CGPA', 'Research',\n",
       "       'Chance_of_Admit'],\n",
       "      dtype='object')"
      ]
     },
     "execution_count": 48,
     "metadata": {},
     "output_type": "execute_result"
    }
   ],
   "source": [
    "df_gre.columns"
   ]
  },
  {
   "cell_type": "code",
   "execution_count": 49,
   "id": "8e3LwBqlgSrT",
   "metadata": {
    "id": "8e3LwBqlgSrT"
   },
   "outputs": [],
   "source": [
    "X_train, X_test, y_train, y_test = train_test_split(X, y, test_size=0.33, random_state=42)"
   ]
  },
  {
   "cell_type": "code",
   "execution_count": 50,
   "id": "Du2NatvGjQUk",
   "metadata": {
    "colab": {
     "base_uri": "https://localhost:8080/"
    },
    "id": "Du2NatvGjQUk",
    "outputId": "aa0af2b3-f954-4ff4-d52b-5ce369054e7a"
   },
   "outputs": [
    {
     "data": {
      "text/plain": [
       "165"
      ]
     },
     "execution_count": 50,
     "metadata": {},
     "output_type": "execute_result"
    }
   ],
   "source": [
    "len(X_train)\n",
    "len(X_test)"
   ]
  },
  {
   "cell_type": "code",
   "execution_count": 51,
   "id": "iyTxlLN5jrjT",
   "metadata": {
    "id": "iyTxlLN5jrjT"
   },
   "outputs": [],
   "source": [
    "model=LinearRegression()"
   ]
  },
  {
   "cell_type": "code",
   "execution_count": 52,
   "id": "HCKXpO2Kj4Hy",
   "metadata": {
    "colab": {
     "base_uri": "https://localhost:8080/"
    },
    "id": "HCKXpO2Kj4Hy",
    "outputId": "62c5d6d6-f4aa-491f-c432-b66ac89be536"
   },
   "outputs": [
    {
     "data": {
      "text/plain": [
       "LinearRegression()"
      ]
     },
     "execution_count": 52,
     "metadata": {},
     "output_type": "execute_result"
    }
   ],
   "source": [
    "model.fit(X_train,y_train)"
   ]
  },
  {
   "cell_type": "code",
   "execution_count": 53,
   "id": "W0brWsaDj70j",
   "metadata": {
    "id": "W0brWsaDj70j"
   },
   "outputs": [],
   "source": [
    "test_pred=model.predict(X_test)"
   ]
  },
  {
   "cell_type": "code",
   "execution_count": 54,
   "id": "nATNazjYkAiK",
   "metadata": {
    "colab": {
     "base_uri": "https://localhost:8080/"
    },
    "id": "nATNazjYkAiK",
    "outputId": "541785d6-a183-4340-9a9e-3d3a7e7476ba"
   },
   "outputs": [
    {
     "name": "stdout",
     "output_type": "stream",
     "text": [
      "0.042567844523082654\n",
      "0.003619741854714961\n",
      "0.060164290527811935\n"
     ]
    }
   ],
   "source": [
    "from sklearn.metrics import mean_absolute_error, mean_squared_error\n",
    "mae=mean_absolute_error(y_test,test_pred)\n",
    "mse=mean_squared_error(y_test,test_pred)\n",
    "rmse=np.sqrt(mse)\n",
    "print(mae)\n",
    "print(mse)\n",
    "print(rmse)\n",
    "list1=[mae,mse,rmse]"
   ]
  },
  {
   "cell_type": "code",
   "execution_count": 55,
   "id": "jiQN6EbSe_g1",
   "metadata": {
    "colab": {
     "base_uri": "https://localhost:8080/"
    },
    "id": "jiQN6EbSe_g1",
    "outputId": "2a4721f5-ad16-4a07-a341-7bfc55ec6add"
   },
   "outputs": [
    {
     "data": {
      "text/plain": [
       "0.042567844523082654"
      ]
     },
     "execution_count": 55,
     "metadata": {},
     "output_type": "execute_result"
    }
   ],
   "source": [
    "mae"
   ]
  },
  {
   "cell_type": "code",
   "execution_count": 56,
   "id": "a5vecPzjkhmo",
   "metadata": {
    "colab": {
     "base_uri": "https://localhost:8080/"
    },
    "id": "a5vecPzjkhmo",
    "outputId": "b40f76d2-5085-43d5-d992-e8bcb77fef7b"
   },
   "outputs": [
    {
     "data": {
      "text/plain": [
       "0.003619741854714961"
      ]
     },
     "execution_count": 56,
     "metadata": {},
     "output_type": "execute_result"
    }
   ],
   "source": [
    "mse"
   ]
  },
  {
   "cell_type": "code",
   "execution_count": 57,
   "id": "3uQtzaT8kj7p",
   "metadata": {
    "colab": {
     "base_uri": "https://localhost:8080/"
    },
    "id": "3uQtzaT8kj7p",
    "outputId": "f377d13b-e3d2-4ffe-c0d4-84e10d4bb257"
   },
   "outputs": [
    {
     "data": {
      "text/plain": [
       "0.060164290527811935"
      ]
     },
     "execution_count": 57,
     "metadata": {},
     "output_type": "execute_result"
    }
   ],
   "source": [
    "rmse"
   ]
  },
  {
   "cell_type": "code",
   "execution_count": 58,
   "id": "IB1cZUwDkljQ",
   "metadata": {
    "id": "IB1cZUwDkljQ"
   },
   "outputs": [],
   "source": [
    "# model.predict([[227 ,\t2 ,\t4. ,\t3.5 \t,7.65 ,\t1]])"
   ]
  },
  {
   "cell_type": "markdown",
   "id": "QOjB_wqOlsjn",
   "metadata": {
    "id": "QOjB_wqOlsjn"
   },
   "source": [
    "## TOEFL"
   ]
  },
  {
   "cell_type": "code",
   "execution_count": 59,
   "id": "I21n7-x0lvVT",
   "metadata": {
    "colab": {
     "base_uri": "https://localhost:8080/"
    },
    "id": "I21n7-x0lvVT",
    "outputId": "56c35b23-32a6-445b-8ef6-8f6e686c302b"
   },
   "outputs": [
    {
     "data": {
      "text/html": [
       "<div>\n",
       "<style scoped>\n",
       "    .dataframe tbody tr th:only-of-type {\n",
       "        vertical-align: middle;\n",
       "    }\n",
       "\n",
       "    .dataframe tbody tr th {\n",
       "        vertical-align: top;\n",
       "    }\n",
       "\n",
       "    .dataframe thead th {\n",
       "        text-align: right;\n",
       "    }\n",
       "</style>\n",
       "<table border=\"1\" class=\"dataframe\">\n",
       "  <thead>\n",
       "    <tr style=\"text-align: right;\">\n",
       "      <th></th>\n",
       "      <th>TOEFL Score</th>\n",
       "      <th>University Rating</th>\n",
       "      <th>SOP</th>\n",
       "      <th>LOR</th>\n",
       "      <th>CGPA</th>\n",
       "      <th>Research</th>\n",
       "      <th>Chance_of_Admit</th>\n",
       "    </tr>\n",
       "  </thead>\n",
       "  <tbody>\n",
       "    <tr>\n",
       "      <th>0</th>\n",
       "      <td>118</td>\n",
       "      <td>4</td>\n",
       "      <td>4.5</td>\n",
       "      <td>4.5</td>\n",
       "      <td>9.65</td>\n",
       "      <td>1</td>\n",
       "      <td>0.92</td>\n",
       "    </tr>\n",
       "    <tr>\n",
       "      <th>1</th>\n",
       "      <td>107</td>\n",
       "      <td>4</td>\n",
       "      <td>4.0</td>\n",
       "      <td>4.5</td>\n",
       "      <td>8.87</td>\n",
       "      <td>1</td>\n",
       "      <td>0.76</td>\n",
       "    </tr>\n",
       "    <tr>\n",
       "      <th>2</th>\n",
       "      <td>104</td>\n",
       "      <td>3</td>\n",
       "      <td>3.0</td>\n",
       "      <td>3.5</td>\n",
       "      <td>8.00</td>\n",
       "      <td>1</td>\n",
       "      <td>0.72</td>\n",
       "    </tr>\n",
       "    <tr>\n",
       "      <th>3</th>\n",
       "      <td>110</td>\n",
       "      <td>3</td>\n",
       "      <td>3.5</td>\n",
       "      <td>2.5</td>\n",
       "      <td>8.67</td>\n",
       "      <td>1</td>\n",
       "      <td>0.80</td>\n",
       "    </tr>\n",
       "    <tr>\n",
       "      <th>4</th>\n",
       "      <td>103</td>\n",
       "      <td>2</td>\n",
       "      <td>2.0</td>\n",
       "      <td>3.0</td>\n",
       "      <td>8.21</td>\n",
       "      <td>0</td>\n",
       "      <td>0.65</td>\n",
       "    </tr>\n",
       "    <tr>\n",
       "      <th>...</th>\n",
       "      <td>...</td>\n",
       "      <td>...</td>\n",
       "      <td>...</td>\n",
       "      <td>...</td>\n",
       "      <td>...</td>\n",
       "      <td>...</td>\n",
       "      <td>...</td>\n",
       "    </tr>\n",
       "    <tr>\n",
       "      <th>495</th>\n",
       "      <td>108</td>\n",
       "      <td>5</td>\n",
       "      <td>4.5</td>\n",
       "      <td>4.0</td>\n",
       "      <td>9.02</td>\n",
       "      <td>1</td>\n",
       "      <td>0.87</td>\n",
       "    </tr>\n",
       "    <tr>\n",
       "      <th>496</th>\n",
       "      <td>117</td>\n",
       "      <td>5</td>\n",
       "      <td>5.0</td>\n",
       "      <td>5.0</td>\n",
       "      <td>9.87</td>\n",
       "      <td>1</td>\n",
       "      <td>0.96</td>\n",
       "    </tr>\n",
       "    <tr>\n",
       "      <th>497</th>\n",
       "      <td>120</td>\n",
       "      <td>5</td>\n",
       "      <td>4.5</td>\n",
       "      <td>5.0</td>\n",
       "      <td>9.56</td>\n",
       "      <td>1</td>\n",
       "      <td>0.93</td>\n",
       "    </tr>\n",
       "    <tr>\n",
       "      <th>498</th>\n",
       "      <td>103</td>\n",
       "      <td>4</td>\n",
       "      <td>4.0</td>\n",
       "      <td>5.0</td>\n",
       "      <td>8.43</td>\n",
       "      <td>0</td>\n",
       "      <td>0.73</td>\n",
       "    </tr>\n",
       "    <tr>\n",
       "      <th>499</th>\n",
       "      <td>113</td>\n",
       "      <td>4</td>\n",
       "      <td>4.5</td>\n",
       "      <td>4.5</td>\n",
       "      <td>9.04</td>\n",
       "      <td>0</td>\n",
       "      <td>0.84</td>\n",
       "    </tr>\n",
       "  </tbody>\n",
       "</table>\n",
       "<p>500 rows × 7 columns</p>\n",
       "</div>"
      ],
      "text/plain": [
       "     TOEFL Score  University Rating  SOP  LOR   CGPA  Research  \\\n",
       "0            118                  4  4.5   4.5  9.65         1   \n",
       "1            107                  4  4.0   4.5  8.87         1   \n",
       "2            104                  3  3.0   3.5  8.00         1   \n",
       "3            110                  3  3.5   2.5  8.67         1   \n",
       "4            103                  2  2.0   3.0  8.21         0   \n",
       "..           ...                ...  ...   ...   ...       ...   \n",
       "495          108                  5  4.5   4.0  9.02         1   \n",
       "496          117                  5  5.0   5.0  9.87         1   \n",
       "497          120                  5  4.5   5.0  9.56         1   \n",
       "498          103                  4  4.0   5.0  8.43         0   \n",
       "499          113                  4  4.5   4.5  9.04         0   \n",
       "\n",
       "     Chance_of_Admit  \n",
       "0               0.92  \n",
       "1               0.76  \n",
       "2               0.72  \n",
       "3               0.80  \n",
       "4               0.65  \n",
       "..               ...  \n",
       "495             0.87  \n",
       "496             0.96  \n",
       "497             0.93  \n",
       "498             0.73  \n",
       "499             0.84  \n",
       "\n",
       "[500 rows x 7 columns]"
      ]
     },
     "execution_count": 59,
     "metadata": {},
     "output_type": "execute_result"
    }
   ],
   "source": [
    "df_toefl=df.drop([\"GRE Score\"],axis=1)\n",
    "df_toefl"
   ]
  },
  {
   "cell_type": "code",
   "execution_count": 60,
   "id": "IuxK8_0Nl5IS",
   "metadata": {
    "colab": {
     "base_uri": "https://localhost:8080/"
    },
    "id": "IuxK8_0Nl5IS",
    "outputId": "2642e2c3-3333-4517-ff6e-3389250636d0"
   },
   "outputs": [
    {
     "data": {
      "text/plain": [
       "<AxesSubplot:>"
      ]
     },
     "execution_count": 60,
     "metadata": {},
     "output_type": "execute_result"
    },
    {
     "data": {
      "image/png": "[encoded data removed]",
      "text/plain": [
       "<Figure size 432x288 with 2 Axes>"
      ]
     },
     "metadata": {
      "needs_background": "light"
     },
     "output_type": "display_data"
    }
   ],
   "source": [
    "sns.heatmap(df_toefl.corr(),annot=True,cmap=\"plasma\")"
   ]
  },
  {
   "cell_type": "code",
   "execution_count": 61,
   "id": "5jsreUWSl9cH",
   "metadata": {
    "colab": {
     "base_uri": "https://localhost:8080/"
    },
    "id": "5jsreUWSl9cH",
    "outputId": "a5b92a39-0c22-4fe2-bbe8-7062a8df8f1f"
   },
   "outputs": [
    {
     "data": {
      "text/plain": [
       "<AxesSubplot:xlabel='TOEFL Score', ylabel='Chance_of_Admit'>"
      ]
     },
     "execution_count": 61,
     "metadata": {},
     "output_type": "execute_result"
    },
    {
     "data": {
      "image/png": "[encoded data removed]",
      "text/plain": [
       "<Figure size 432x288 with 1 Axes>"
      ]
     },
     "metadata": {
      "needs_background": "light"
     },
     "output_type": "display_data"
    }
   ],
   "source": [
    "sns.scatterplot(x=\"TOEFL Score\",y=\"Chance_of_Admit\",data=df_toefl,hue=\"CGPA\")"
   ]
  },
  {
   "cell_type": "code",
   "execution_count": 62,
   "id": "3UVlqyyHm-6o",
   "metadata": {
    "colab": {
     "base_uri": "https://localhost:8080/"
    },
    "id": "3UVlqyyHm-6o",
    "outputId": "69791d07-acaf-4dad-e44b-c23f53c77feb"
   },
   "outputs": [
    {
     "data": {
      "text/plain": [
       "(500, 7)"
      ]
     },
     "execution_count": 62,
     "metadata": {},
     "output_type": "execute_result"
    }
   ],
   "source": [
    "df_toefl.shape"
   ]
  },
  {
   "cell_type": "code",
   "execution_count": 63,
   "id": "SJ4Q2WYpnO_Q",
   "metadata": {
    "id": "SJ4Q2WYpnO_Q"
   },
   "outputs": [],
   "source": [
    "X=df_toefl.drop(\"Chance_of_Admit\",axis=1)\n",
    "y=df_toefl['Chance_of_Admit']"
   ]
  },
  {
   "cell_type": "code",
   "execution_count": 64,
   "id": "HMXrGRtknV1v",
   "metadata": {
    "id": "HMXrGRtknV1v"
   },
   "outputs": [],
   "source": [
    "X_train, X_test, y_train, y_test = train_test_split(X, y, test_size=0.33, random_state=42)"
   ]
  },
  {
   "cell_type": "code",
   "execution_count": 65,
   "id": "_dAFzrzmneUt",
   "metadata": {
    "colab": {
     "base_uri": "https://localhost:8080/"
    },
    "id": "_dAFzrzmneUt",
    "outputId": "c65d5255-35c3-412b-bdb1-bb38b5b62450"
   },
   "outputs": [
    {
     "data": {
      "text/plain": [
       "LinearRegression()"
      ]
     },
     "execution_count": 65,
     "metadata": {},
     "output_type": "execute_result"
    }
   ],
   "source": [
    "model.fit(X_train,y_train)"
   ]
  },
  {
   "cell_type": "code",
   "execution_count": 66,
   "id": "nJSvCEdqodaY",
   "metadata": {
    "id": "nJSvCEdqodaY"
   },
   "outputs": [],
   "source": [
    "test_pred=model.predict(X_test)"
   ]
  },
  {
   "cell_type": "code",
   "execution_count": 67,
   "id": "QAeVQaDxofl-",
   "metadata": {
    "colab": {
     "base_uri": "https://localhost:8080/"
    },
    "id": "QAeVQaDxofl-",
    "outputId": "22dc50a9-7e43-4b01-d92d-eb1d831dc80d"
   },
   "outputs": [
    {
     "name": "stdout",
     "output_type": "stream",
     "text": [
      "0.04357524433205943\n",
      "0.003666216316933468\n",
      "0.06054928832722535\n"
     ]
    }
   ],
   "source": [
    "from sklearn.metrics import mean_absolute_error, mean_squared_error\n",
    "mae=mean_absolute_error(y_test,test_pred)\n",
    "mse=mean_squared_error(y_test,test_pred)\n",
    "rmse=np.sqrt(mse)\n",
    "print(mae)\n",
    "print(mse)\n",
    "print(rmse)\n",
    "list2=[mae,mse,rmse]"
   ]
  },
  {
   "cell_type": "code",
   "execution_count": 68,
   "id": "E4p6JfSWoiSF",
   "metadata": {
    "colab": {
     "base_uri": "https://localhost:8080/"
    },
    "id": "E4p6JfSWoiSF",
    "outputId": "413e4173-0e43-440a-db5e-6ff245aba5b7"
   },
   "outputs": [
    {
     "data": {
      "text/plain": [
       "0.04357524433205943"
      ]
     },
     "execution_count": 68,
     "metadata": {},
     "output_type": "execute_result"
    }
   ],
   "source": [
    "mae"
   ]
  },
  {
   "cell_type": "code",
   "execution_count": 69,
   "id": "Wu_9g8sDojeg",
   "metadata": {
    "colab": {
     "base_uri": "https://localhost:8080/"
    },
    "id": "Wu_9g8sDojeg",
    "outputId": "fd8a4ab3-1440-40a6-ecb6-c72c32975ab8"
   },
   "outputs": [
    {
     "data": {
      "text/plain": [
       "0.003666216316933468"
      ]
     },
     "execution_count": 69,
     "metadata": {},
     "output_type": "execute_result"
    }
   ],
   "source": [
    "mse"
   ]
  },
  {
   "cell_type": "code",
   "execution_count": 70,
   "id": "U1zw0G5Lok1W",
   "metadata": {
    "colab": {
     "base_uri": "https://localhost:8080/"
    },
    "id": "U1zw0G5Lok1W",
    "outputId": "bc7fdc67-6821-4368-fed6-d49020f9cd1d"
   },
   "outputs": [
    {
     "data": {
      "text/plain": [
       "0.06054928832722535"
      ]
     },
     "execution_count": 70,
     "metadata": {},
     "output_type": "execute_result"
    }
   ],
   "source": [
    "rmse"
   ]
  },
  {
   "cell_type": "markdown",
   "id": "fZ0NQC-Plg9z",
   "metadata": {
    "id": "fZ0NQC-Plg9z"
   },
   "source": [
    "# Polynomial Regression"
   ]
  },
  {
   "cell_type": "markdown",
   "id": "-97S4PwUlmpI",
   "metadata": {
    "id": "-97S4PwUlmpI"
   },
   "source": [
    "## GRE"
   ]
  },
  {
   "cell_type": "code",
   "execution_count": 187,
   "id": "HNkuopeLlgr-",
   "metadata": {
    "id": "HNkuopeLlgr-"
   },
   "outputs": [],
   "source": [
    "X=df_gre.drop(\"Chance_of_Admit\",axis=1)\n",
    "y=df_gre['Chance_of_Admit']"
   ]
  },
  {
   "cell_type": "code",
   "execution_count": 188,
   "id": "ge_-M9nhlrya",
   "metadata": {
    "id": "ge_-M9nhlrya"
   },
   "outputs": [],
   "source": [
    "from sklearn.preprocessing import PolynomialFeatures\n",
    "polynomial_converter=PolynomialFeatures(degree=2,include_bias=False)"
   ]
  },
  {
   "cell_type": "code",
   "execution_count": 189,
   "id": "7Bd7Cddilrvj",
   "metadata": {
    "id": "7Bd7Cddilrvj"
   },
   "outputs": [],
   "source": [
    "poly_features=polynomial_converter.fit_transform(X)"
   ]
  },
  {
   "cell_type": "code",
   "execution_count": 190,
   "id": "DguZmXjHlrk-",
   "metadata": {
    "id": "DguZmXjHlrk-"
   },
   "outputs": [],
   "source": [
    "from sklearn.model_selection import train_test_split\n",
    "X_train, X_test, y_train, y_test = train_test_split(poly_features, y, test_size=0.33, random_state=42)"
   ]
  },
  {
   "cell_type": "code",
   "execution_count": 191,
   "id": "fPs-xt7bmDU2",
   "metadata": {
    "id": "fPs-xt7bmDU2"
   },
   "outputs": [],
   "source": [
    "from sklearn.linear_model import LinearRegression"
   ]
  },
  {
   "cell_type": "code",
   "execution_count": 192,
   "id": "8T-UINgwmRTf",
   "metadata": {
    "id": "8T-UINgwmRTf"
   },
   "outputs": [],
   "source": [
    "gre_polynomial_model=LinearRegression()"
   ]
  },
  {
   "cell_type": "code",
   "execution_count": 193,
   "id": "QTy9gQnGmTsT",
   "metadata": {
    "colab": {
     "base_uri": "https://localhost:8080/"
    },
    "id": "QTy9gQnGmTsT",
    "outputId": "16b23cda-8570-4fe4-b722-e02dd403c52c"
   },
   "outputs": [
    {
     "data": {
      "text/plain": [
       "LinearRegression()"
      ]
     },
     "execution_count": 193,
     "metadata": {},
     "output_type": "execute_result"
    }
   ],
   "source": [
    "gre_polynomial_model.fit(X_train,y_train)"
   ]
  },
  {
   "cell_type": "code",
   "execution_count": 194,
   "id": "DQCgg-85nRoL",
   "metadata": {
    "id": "DQCgg-85nRoL"
   },
   "outputs": [],
   "source": [
    "test_prediction=gre_polynomial_model.predict(X_test)"
   ]
  },
  {
   "cell_type": "code",
   "execution_count": 195,
   "id": "seZh5TbKvQ2T",
   "metadata": {
    "colab": {
     "base_uri": "https://localhost:8080/"
    },
    "id": "seZh5TbKvQ2T",
    "outputId": "72158a42-07f9-43b9-b991-9438b824c608"
   },
   "outputs": [
    {
     "name": "stdout",
     "output_type": "stream",
     "text": [
      "0.04146581574045006\n",
      "0.00360764080771452\n",
      "0.06006363964758146\n"
     ]
    }
   ],
   "source": [
    "from sklearn.metrics import mean_absolute_error, mean_squared_error\n",
    "mae=mean_absolute_error(y_test,test_prediction)\n",
    "mse=mean_squared_error(y_test,test_prediction)\n",
    "rmse=np.sqrt(mse)\n",
    "print(mae)\n",
    "print(mse)\n",
    "print(rmse)\n",
    "list3=[mae,mse,rmse]"
   ]
  },
  {
   "cell_type": "code",
   "execution_count": 196,
   "id": "kslQmdDRnVxO",
   "metadata": {
    "colab": {
     "base_uri": "https://localhost:8080/"
    },
    "id": "kslQmdDRnVxO",
    "outputId": "cf04322d-6cc7-4b21-c6eb-34e108132398"
   },
   "outputs": [
    {
     "data": {
      "text/plain": [
       "0.04146581574045006"
      ]
     },
     "execution_count": 196,
     "metadata": {},
     "output_type": "execute_result"
    }
   ],
   "source": [
    "MAE=mean_absolute_error(y_test,test_prediction)\n",
    "MAE"
   ]
  },
  {
   "cell_type": "code",
   "execution_count": 197,
   "id": "kKbefa8FnYD6",
   "metadata": {
    "colab": {
     "base_uri": "https://localhost:8080/"
    },
    "id": "kKbefa8FnYD6",
    "outputId": "cf7fafb0-aae4-4436-ee4e-cd2d7f6418aa"
   },
   "outputs": [
    {
     "data": {
      "text/plain": [
       "0.00360764080771452"
      ]
     },
     "execution_count": 197,
     "metadata": {},
     "output_type": "execute_result"
    }
   ],
   "source": [
    "MSE=mean_squared_error(y_test,test_prediction)\n",
    "MSE"
   ]
  },
  {
   "cell_type": "code",
   "execution_count": 198,
   "id": "SvLApGNGnaEF",
   "metadata": {
    "colab": {
     "base_uri": "https://localhost:8080/"
    },
    "id": "SvLApGNGnaEF",
    "outputId": "75cb9b45-41be-4a7e-9f34-8f17c97f5299"
   },
   "outputs": [
    {
     "data": {
      "text/plain": [
       "0.06006363964758146"
      ]
     },
     "execution_count": 198,
     "metadata": {},
     "output_type": "execute_result"
    }
   ],
   "source": [
    "RMSE=np.sqrt(MSE)\n",
    "RMSE"
   ]
  },
  {
   "cell_type": "code",
   "execution_count": null,
   "id": "bPuWXfVVw4YF",
   "metadata": {
    "id": "bPuWXfVVw4YF"
   },
   "outputs": [],
   "source": []
  },
  {
   "cell_type": "markdown",
   "id": "h7zqJgVhgYHn",
   "metadata": {
    "id": "h7zqJgVhgYHn"
   },
   "source": [
    "##TOEFL"
   ]
  },
  {
   "cell_type": "code",
   "execution_count": 244,
   "id": "0kZ6l-R1cm1q",
   "metadata": {
    "id": "0kZ6l-R1cm1q"
   },
   "outputs": [],
   "source": [
    "x=df_toefl.drop(\"Chance_of_Admit\",axis=1)\n",
    "y=df_toefl['Chance_of_Admit']"
   ]
  },
  {
   "cell_type": "code",
   "execution_count": 245,
   "id": "_9P8WXHOd81o",
   "metadata": {
    "id": "_9P8WXHOd81o"
   },
   "outputs": [],
   "source": [
    "from sklearn.preprocessing import PolynomialFeatures\n",
    "polynomial_converter=PolynomialFeatures(degree=2,include_bias=False)"
   ]
  },
  {
   "cell_type": "code",
   "execution_count": 246,
   "id": "kV5KdcoYxcMD",
   "metadata": {
    "id": "kV5KdcoYxcMD"
   },
   "outputs": [],
   "source": [
    "poly_features=polynomial_converter.fit_transform(x)"
   ]
  },
  {
   "cell_type": "code",
   "execution_count": 247,
   "id": "9vWr5DAWgyEJ",
   "metadata": {
    "id": "9vWr5DAWgyEJ"
   },
   "outputs": [],
   "source": [
    "toefl_polynomial_model=LinearRegression()"
   ]
  },
  {
   "cell_type": "code",
   "execution_count": 248,
   "id": "e2vRZy6_gx75",
   "metadata": {
    "id": "e2vRZy6_gx75"
   },
   "outputs": [],
   "source": [
    "X_train, X_test, y_train, y_test = train_test_split(poly_features, y, test_size=0.33, random_state=42)"
   ]
  },
  {
   "cell_type": "code",
   "execution_count": 249,
   "id": "KfNC82QCgxxV",
   "metadata": {
    "colab": {
     "base_uri": "https://localhost:8080/"
    },
    "id": "KfNC82QCgxxV",
    "outputId": "fc8a7609-9bc1-453f-c4cb-f83f2bcb9214"
   },
   "outputs": [
    {
     "data": {
      "text/plain": [
       "LinearRegression()"
      ]
     },
     "execution_count": 249,
     "metadata": {},
     "output_type": "execute_result"
    }
   ],
   "source": [
    "toefl_polynomial_model.fit(X_train,y_train)"
   ]
  },
  {
   "cell_type": "code",
   "execution_count": 250,
   "id": "Yelb-kLOgxsj",
   "metadata": {
    "id": "Yelb-kLOgxsj"
   },
   "outputs": [],
   "source": [
    "y_pred=toefl_polynomial_model.predict(X_test)"
   ]
  },
  {
   "cell_type": "code",
   "execution_count": null,
   "id": "a1acd87b",
   "metadata": {},
   "outputs": [],
   "source": [
    "pred=toefl_polynomial_model.predict([[X_test]])"
   ]
  },
  {
   "cell_type": "code",
   "execution_count": 237,
   "id": "PQqUlBsRgxfJ",
   "metadata": {
    "colab": {
     "base_uri": "https://localhost:8080/"
    },
    "id": "PQqUlBsRgxfJ",
    "outputId": "3b833e35-aa1f-46e1-aeaa-777d7a4a8190"
   },
   "outputs": [
    {
     "name": "stdout",
     "output_type": "stream",
     "text": [
      "0.04146581574045006\n",
      "0.00360764080771452\n",
      "0.06006363964758146\n"
     ]
    }
   ],
   "source": [
    "from sklearn.metrics import mean_absolute_error, mean_squared_error\n",
    "mae=mean_absolute_error(y_test,y_pred)\n",
    "mse=mean_squared_error(y_test,y_pred)\n",
    "rmse=np.sqrt(mse)\n",
    "print(mae)\n",
    "print(mse)\n",
    "print(rmse)\n",
    "list4=[mae,mse,rmse]"
   ]
  },
  {
   "cell_type": "code",
   "execution_count": 207,
   "id": "v_acxryahCWO",
   "metadata": {
    "colab": {
     "base_uri": "https://localhost:8080/"
    },
    "id": "v_acxryahCWO",
    "outputId": "e42a6344-3d3e-4460-aa64-ebec9d92326e"
   },
   "outputs": [
    {
     "name": "stdout",
     "output_type": "stream",
     "text": [
      "[0.042567844523082654, 0.003619741854714961, 0.060164290527811935]\n",
      "[0.04146581574045006, 0.00360764080771452, 0.06006363964758146]\n"
     ]
    }
   ],
   "source": [
    "print(f\"{list1}\\n{list3}\")"
   ]
  },
  {
   "cell_type": "code",
   "execution_count": 208,
   "id": "pB2GCU5ZhtKt",
   "metadata": {
    "colab": {
     "base_uri": "https://localhost:8080/"
    },
    "id": "pB2GCU5ZhtKt",
    "outputId": "d0e3ffd4-82ec-408f-ae36-a9a392f1f975"
   },
   "outputs": [
    {
     "name": "stdout",
     "output_type": "stream",
     "text": [
      "[0.04357524433205943, 0.003666216316933468, 0.06054928832722535]\n",
      "[0.04146581574045006, 0.00360764080771452, 0.06006363964758146]\n"
     ]
    }
   ],
   "source": [
    "print(f\"{list2}\\n{list4}\")"
   ]
  },
  {
   "cell_type": "code",
   "execution_count": 93,
   "id": "Bpf7bYCOjRSj",
   "metadata": {
    "colab": {
     "base_uri": "https://localhost:8080/"
    },
    "id": "Bpf7bYCOjRSj",
    "outputId": "359e70a4-9eb3-434b-8499-01b86445f63a"
   },
   "outputs": [
    {
     "data": {
      "text/html": [
       "<div>\n",
       "<style scoped>\n",
       "    .dataframe tbody tr th:only-of-type {\n",
       "        vertical-align: middle;\n",
       "    }\n",
       "\n",
       "    .dataframe tbody tr th {\n",
       "        vertical-align: top;\n",
       "    }\n",
       "\n",
       "    .dataframe thead th {\n",
       "        text-align: right;\n",
       "    }\n",
       "</style>\n",
       "<table border=\"1\" class=\"dataframe\">\n",
       "  <thead>\n",
       "    <tr style=\"text-align: right;\">\n",
       "      <th></th>\n",
       "      <th>0</th>\n",
       "      <th>1</th>\n",
       "    </tr>\n",
       "  </thead>\n",
       "  <tbody>\n",
       "    <tr>\n",
       "      <th>MLR</th>\n",
       "      <td>[0.042567844523082654, 0.003619741854714961, 0...</td>\n",
       "      <td>[0.04244206361767354, 0.0035592010816131083, 0...</td>\n",
       "    </tr>\n",
       "    <tr>\n",
       "      <th>Poly</th>\n",
       "      <td>[0.042567844523082654, 0.003619741854714961, 0...</td>\n",
       "      <td>[0.04244206361767354, 0.0035592010816131083, 0...</td>\n",
       "    </tr>\n",
       "  </tbody>\n",
       "</table>\n",
       "</div>"
      ],
      "text/plain": [
       "                                                      0  \\\n",
       "MLR   [0.042567844523082654, 0.003619741854714961, 0...   \n",
       "Poly  [0.042567844523082654, 0.003619741854714961, 0...   \n",
       "\n",
       "                                                      1  \n",
       "MLR   [0.04244206361767354, 0.0035592010816131083, 0...  \n",
       "Poly  [0.04244206361767354, 0.0035592010816131083, 0...  "
      ]
     },
     "execution_count": 93,
     "metadata": {},
     "output_type": "execute_result"
    }
   ],
   "source": [
    "error=[[list1,list3]]\n",
    "data=pd.DataFrame(error,index=['MLR','Poly'])#,columns=['mae','mse','rmse'])\n",
    "data"
   ]
  },
  {
   "cell_type": "code",
   "execution_count": null,
   "id": "IFm0c-D4oxvs",
   "metadata": {
    "id": "IFm0c-D4oxvs"
   },
   "outputs": [],
   "source": []
  },
  {
   "cell_type": "markdown",
   "id": "9dD4dnhewpCJ",
   "metadata": {
    "id": "9dD4dnhewpCJ"
   },
   "source": []
  },
  {
   "cell_type": "markdown",
   "id": "cezvR9opo_fC",
   "metadata": {
    "id": "cezvR9opo_fC"
   },
   "source": [
    "### IGNORE FROM HERE"
   ]
  },
  {
   "cell_type": "code",
   "execution_count": 94,
   "id": "SxtJsZWvneQs",
   "metadata": {
    "id": "SxtJsZWvneQs"
   },
   "outputs": [],
   "source": [
    "train_rmse_errors=[]\n",
    "test_rmse_errors=[]\n",
    "\n",
    "#we will take upto 10 order\n",
    "for d in range(1,10): # d stands for degree\n",
    "    polynomial_converter= PolynomialFeatures(degree=d,include_bias=False)\n",
    "    poly_features=polynomial_converter.fit_transform(X)\n",
    "    \n",
    "    X_train, X_test, y_train, y_test = train_test_split(poly_features, y, test_size=0.3, random_state=101)\n",
    "    \n",
    "    model=LinearRegression()\n",
    "    model.fit(X_train,y_train)\n",
    "    \n",
    "    train_prediction=model.predict(X_train)\n",
    "    test_prediction=model.predict(X_test)\n",
    "    \n",
    "    train_rmse=np.sqrt(mean_squared_error(y_train,train_prediction))\n",
    "    test_rmse=np.sqrt(mean_squared_error(y_test,test_prediction))\n",
    "    \n",
    "    train_rmse_errors.append(train_rmse)\n",
    "    test_rmse_errors.append(test_rmse)"
   ]
  },
  {
   "cell_type": "code",
   "execution_count": 95,
   "id": "ICClefXcnmAk",
   "metadata": {
    "colab": {
     "base_uri": "https://localhost:8080/"
    },
    "id": "ICClefXcnmAk",
    "outputId": "691f3d13-5051-462f-914b-cbb9155b355c"
   },
   "outputs": [
    {
     "data": {
      "text/plain": [
       "[0.06146163665049046,\n",
       " 0.05856009599127396,\n",
       " 0.05554450593240071,\n",
       " 0.043157847070139976,\n",
       " 0.0038902987426605545,\n",
       " 0.0026536171375760066,\n",
       " 0.0051314695876201345,\n",
       " 0.0051022689715006855,\n",
       " 0.006036668468243906]"
      ]
     },
     "execution_count": 95,
     "metadata": {},
     "output_type": "execute_result"
    }
   ],
   "source": [
    "train_rmse_errors"
   ]
  },
  {
   "cell_type": "code",
   "execution_count": 96,
   "id": "1ysUSPnynuvz",
   "metadata": {
    "colab": {
     "base_uri": "https://localhost:8080/"
    },
    "id": "1ysUSPnynuvz",
    "outputId": "de9fdb6e-43ec-4cf4-8cae-bd403e5f7535"
   },
   "outputs": [
    {
     "data": {
      "text/plain": [
       "[0.058026441426963955,\n",
       " 0.05830471387345835,\n",
       " 0.06779884995786918,\n",
       " 0.22320292102460987,\n",
       " 10.511601395741666,\n",
       " 12.899294666019061,\n",
       " 12.59848465539024,\n",
       " 12.74135163246639,\n",
       " 12.962925484833878]"
      ]
     },
     "execution_count": 96,
     "metadata": {},
     "output_type": "execute_result"
    }
   ],
   "source": [
    "test_rmse_errors"
   ]
  },
  {
   "cell_type": "code",
   "execution_count": 97,
   "id": "ljhy4yBLn8Wy",
   "metadata": {
    "colab": {
     "base_uri": "https://localhost:8080/"
    },
    "id": "ljhy4yBLn8Wy",
    "outputId": "bc5fe0a0-c167-4651-edc7-c2e17f2d283d"
   },
   "outputs": [
    {
     "data": {
      "text/plain": [
       "<matplotlib.legend.Legend at 0x1dfb3656f10>"
      ]
     },
     "execution_count": 97,
     "metadata": {},
     "output_type": "execute_result"
    },
    {
     "data": {
      "image/png": "[encoded data removed]",
      "text/plain": [
       "<Figure size 432x288 with 1 Axes>"
      ]
     },
     "metadata": {
      "needs_background": "light"
     },
     "output_type": "display_data"
    }
   ],
   "source": [
    "plt.plot(range(1,4),train_rmse_errors[:3],label='TRAIN_RMSE')\n",
    "plt.plot(range(1,4),test_rmse_errors[:3],label='TEST_RMSE')\n",
    "\n",
    "plt.xlabel('POLY ORDER')\n",
    "plt.ylabel('ERROR')\n",
    "plt.legend()"
   ]
  },
  {
   "cell_type": "markdown",
   "id": "iA6UdfFGoF3n",
   "metadata": {
    "id": "iA6UdfFGoF3n"
   },
   "source": [
    "whole list"
   ]
  },
  {
   "cell_type": "code",
   "execution_count": 98,
   "id": "a9r7iLrooFPY",
   "metadata": {
    "colab": {
     "base_uri": "https://localhost:8080/"
    },
    "id": "a9r7iLrooFPY",
    "outputId": "efd5d3f9-f438-46a2-bfa4-5aa36229ad9f"
   },
   "outputs": [
    {
     "data": {
      "text/plain": [
       "<matplotlib.legend.Legend at 0x1dfb36b4cd0>"
      ]
     },
     "execution_count": 98,
     "metadata": {},
     "output_type": "execute_result"
    },
    {
     "data": {
      "image/png": "[encoded data removed]",
      "text/plain": [
       "<Figure size 432x288 with 1 Axes>"
      ]
     },
     "metadata": {
      "needs_background": "light"
     },
     "output_type": "display_data"
    }
   ],
   "source": [
    "plt.plot(range(1,10),train_rmse_errors,label='TRAIN_RMSE')\n",
    "plt.plot(range(1,10),test_rmse_errors,label='TEST_RMSE')\n",
    "\n",
    "plt.xlabel('POLY ORDER')\n",
    "plt.ylabel('ERROR')\n",
    "plt.legend()"
   ]
  },
  {
   "cell_type": "markdown",
   "id": "UoqM6PiJ3Uo0",
   "metadata": {
    "id": "UoqM6PiJ3Uo0"
   },
   "source": [
    "## Polynomial Regression insights\n",
    "  1. The polynomial regression is giving equivalent result to multiple linear regression for degree=1.\n",
    "  2. Its performance decreases gradually on increase in degree."
   ]
  },
  {
   "cell_type": "markdown",
   "id": "bzH4cdw9GPDG",
   "metadata": {
    "id": "bzH4cdw9GPDG"
   },
   "source": [
    "#ElasticNetCV Regression \n"
   ]
  },
  {
   "cell_type": "markdown",
   "id": "Lfyx_uuegThO",
   "metadata": {
    "id": "Lfyx_uuegThO"
   },
   "source": [
    "###GRE"
   ]
  },
  {
   "cell_type": "code",
   "execution_count": 99,
   "id": "EpyYIZ7SYi-Z",
   "metadata": {
    "id": "EpyYIZ7SYi-Z"
   },
   "outputs": [],
   "source": [
    "# X=df_gre.drop(\"Chance_of_Admit\",axis=1)\n",
    "# y=df_gre['Chance of Admit ']"
   ]
  },
  {
   "cell_type": "code",
   "execution_count": 100,
   "id": "FuaRVLIrGTVt",
   "metadata": {
    "id": "FuaRVLIrGTVt"
   },
   "outputs": [],
   "source": [
    "from sklearn.preprocessing import PolynomialFeatures\n",
    "polynomial_converter=PolynomialFeatures(degree=3,include_bias=False)\n"
   ]
  },
  {
   "cell_type": "code",
   "execution_count": 101,
   "id": "Hh5ojqSdYw-7",
   "metadata": {
    "id": "Hh5ojqSdYw-7"
   },
   "outputs": [],
   "source": [
    "poly_features=polynomial_converter.fit_transform(X)"
   ]
  },
  {
   "cell_type": "code",
   "execution_count": 102,
   "id": "rvSqihVyi1Y_",
   "metadata": {
    "colab": {
     "base_uri": "https://localhost:8080/"
    },
    "id": "rvSqihVyi1Y_",
    "outputId": "12f11eaf-b15c-4dbf-e1ff-921762ff0d46"
   },
   "outputs": [
    {
     "data": {
      "text/plain": [
       "(500, 83)"
      ]
     },
     "execution_count": 102,
     "metadata": {},
     "output_type": "execute_result"
    }
   ],
   "source": [
    "poly_features.shape"
   ]
  },
  {
   "cell_type": "code",
   "execution_count": 105,
   "id": "yvPz3An5ZOzM",
   "metadata": {
    "id": "yvPz3An5ZOzM"
   },
   "outputs": [],
   "source": [
    "#from sklearn.model_selection import train_test_split\n",
    "#X_train, X_test, y_train, y_test = train_test_split(poly_features, q, test_size=0.3, random_state=42)"
   ]
  },
  {
   "cell_type": "code",
   "execution_count": 106,
   "id": "1ZnQlzLbjGoE",
   "metadata": {
    "colab": {
     "base_uri": "https://localhost:8080/"
    },
    "id": "1ZnQlzLbjGoE",
    "outputId": "5f964775-9922-4fe5-e3b5-292c923df57c"
   },
   "outputs": [
    {
     "data": {
      "text/plain": [
       "(350, 5004)"
      ]
     },
     "execution_count": 106,
     "metadata": {},
     "output_type": "execute_result"
    }
   ],
   "source": [
    "X_train.shape"
   ]
  },
  {
   "cell_type": "code",
   "execution_count": 107,
   "id": "9WZz7ntKjLSJ",
   "metadata": {
    "id": "9WZz7ntKjLSJ"
   },
   "outputs": [],
   "source": [
    "from sklearn.preprocessing import StandardScaler"
   ]
  },
  {
   "cell_type": "code",
   "execution_count": 108,
   "id": "ajplCrYzjN6v",
   "metadata": {
    "id": "ajplCrYzjN6v"
   },
   "outputs": [],
   "source": [
    "scaler=StandardScaler()"
   ]
  },
  {
   "cell_type": "code",
   "execution_count": 109,
   "id": "zHTfaf7hjal1",
   "metadata": {
    "id": "zHTfaf7hjal1"
   },
   "outputs": [],
   "source": [
    "X_train=scaler.fit_transform(X_train)"
   ]
  },
  {
   "cell_type": "code",
   "execution_count": 110,
   "id": "h9jWBqqwjd2S",
   "metadata": {
    "id": "h9jWBqqwjd2S"
   },
   "outputs": [],
   "source": [
    "X_test=scaler.transform(X_test)"
   ]
  },
  {
   "cell_type": "code",
   "execution_count": 111,
   "id": "zBKcF1AIjxo2",
   "metadata": {
    "id": "zBKcF1AIjxo2"
   },
   "outputs": [],
   "source": [
    "from sklearn.linear_model import ElasticNetCV"
   ]
  },
  {
   "cell_type": "code",
   "execution_count": 112,
   "id": "96eLPG7Dj3XJ",
   "metadata": {
    "id": "96eLPG7Dj3XJ"
   },
   "outputs": [],
   "source": [
    "elastic_net_model=ElasticNetCV(l1_ratio=[.1, .5, .7, .9, .95, .99, 1],n_alphas=100,eps=0.001,max_iter=100000)"
   ]
  },
  {
   "cell_type": "code",
   "execution_count": 113,
   "id": "bndQ20mvj9qg",
   "metadata": {
    "colab": {
     "base_uri": "https://localhost:8080/"
    },
    "id": "bndQ20mvj9qg",
    "outputId": "45fd6d0a-2d37-4f37-be03-de480e045143"
   },
   "outputs": [
    {
     "name": "stderr",
     "output_type": "stream",
     "text": [
      "\n",
      "KeyboardInterrupt\n",
      "\n"
     ]
    }
   ],
   "source": [
    "#elastic_net_model.fit(X_train,y_train)"
   ]
  },
  {
   "cell_type": "code",
   "execution_count": null,
   "id": "6jNbGsnqkAaF",
   "metadata": {
    "colab": {
     "base_uri": "https://localhost:8080/"
    },
    "id": "6jNbGsnqkAaF",
    "outputId": "fcd14883-652e-46dc-df47-d88158490c81"
   },
   "outputs": [],
   "source": [
    "#elastic_net_model.l1_ratio_"
   ]
  },
  {
   "cell_type": "code",
   "execution_count": null,
   "id": "7wFi6a5ykFk_",
   "metadata": {
    "colab": {
     "base_uri": "https://localhost:8080/"
    },
    "id": "7wFi6a5ykFk_",
    "outputId": "cdec57ea-b589-4d23-9f1f-591ad7e9ae34"
   },
   "outputs": [],
   "source": [
    "#elastic_net_model.alpha_"
   ]
  },
  {
   "cell_type": "code",
   "execution_count": null,
   "id": "sz3rHEX8kIQD",
   "metadata": {
    "id": "sz3rHEX8kIQD"
   },
   "outputs": [],
   "source": [
    "#test_predictions=elastic_net_model.predict(X_test)"
   ]
  },
  {
   "cell_type": "code",
   "execution_count": null,
   "id": "WObK8QpnkPgO",
   "metadata": {
    "id": "WObK8QpnkPgO"
   },
   "outputs": [],
   "source": [
    "#from sklearn.metrics import mean_absolute_error,mean_squared_error"
   ]
  },
  {
   "cell_type": "code",
   "execution_count": null,
   "id": "yudLf5yfkM6W",
   "metadata": {
    "colab": {
     "base_uri": "https://localhost:8080/"
    },
    "id": "yudLf5yfkM6W",
    "outputId": "6765e054-d198-432f-e3d0-d29159ebc59b"
   },
   "outputs": [],
   "source": [
    "#MAE=mean_absolute_error(y_test,test_predictions)\n",
    "#MAE"
   ]
  },
  {
   "cell_type": "code",
   "execution_count": null,
   "id": "Wh8v0GndkV04",
   "metadata": {
    "colab": {
     "base_uri": "https://localhost:8080/"
    },
    "id": "Wh8v0GndkV04",
    "outputId": "1c40d267-ae4b-4190-fe3c-8b3f6d9ef488"
   },
   "outputs": [],
   "source": [
    "#MSE=mean_squared_error(y_test,test_predictions)\n",
    "#MSE"
   ]
  },
  {
   "cell_type": "code",
   "execution_count": null,
   "id": "olY3du3Xkfng",
   "metadata": {
    "colab": {
     "base_uri": "https://localhost:8080/"
    },
    "id": "olY3du3Xkfng",
    "outputId": "41e167a2-02ab-4b77-c2fe-ecbb87929647"
   },
   "outputs": [],
   "source": [
    "#RMSE=np.sqrt(MSE)\n",
    "#RMSE"
   ]
  },
  {
   "cell_type": "markdown",
   "id": "t1BMBdyu-VkS",
   "metadata": {
    "id": "t1BMBdyu-VkS"
   },
   "source": [
    "#Elastic Net Regression\n"
   ]
  },
  {
   "cell_type": "markdown",
   "id": "y9u-RBwqFlKx",
   "metadata": {
    "id": "y9u-RBwqFlKx"
   },
   "source": [
    "##GRE"
   ]
  },
  {
   "cell_type": "code",
   "execution_count": 114,
   "id": "dW7QR6eH_N-B",
   "metadata": {
    "id": "dW7QR6eH_N-B"
   },
   "outputs": [],
   "source": [
    "from sklearn.linear_model import ElasticNet"
   ]
  },
  {
   "cell_type": "code",
   "execution_count": 115,
   "id": "dF4n06fi-26k",
   "metadata": {
    "id": "dF4n06fi-26k"
   },
   "outputs": [],
   "source": [
    "x=df_gre.drop(\"Chance_of_Admit\",axis=1)\n",
    "y=df_gre['Chance_of_Admit']"
   ]
  },
  {
   "cell_type": "code",
   "execution_count": 116,
   "id": "lhwxkblpkfOp",
   "metadata": {
    "id": "lhwxkblpkfOp"
   },
   "outputs": [],
   "source": [
    "# Split the data into training and testing sets\n",
    "X_train, X_test, y_train, y_test = train_test_split(X, y, test_size=0.33, random_state=42)"
   ]
  },
  {
   "cell_type": "code",
   "execution_count": 117,
   "id": "57-rFght-lI7",
   "metadata": {
    "id": "57-rFght-lI7"
   },
   "outputs": [],
   "source": [
    "# Create an Elastic Net regression object\n",
    "en_reg = ElasticNet(alpha=0.001)#,l1_ratio=[0.1,0.5,0.7,0.9,0.95,0.99,1],max_iter=100000)#, l1_ratio=0.5,random_state=42)"
   ]
  },
  {
   "cell_type": "code",
   "execution_count": null,
   "id": "yIt-IGu9fEYT",
   "metadata": {
    "id": "yIt-IGu9fEYT"
   },
   "outputs": [],
   "source": []
  },
  {
   "cell_type": "markdown",
   "id": "3uP7gZWefEAj",
   "metadata": {
    "id": "3uP7gZWefEAj"
   },
   "source": []
  },
  {
   "cell_type": "code",
   "execution_count": 118,
   "id": "5y4bzkjO-oN8",
   "metadata": {
    "colab": {
     "base_uri": "https://localhost:8080/"
    },
    "id": "5y4bzkjO-oN8",
    "outputId": "701315a0-621c-4006-e11d-864bc37b5c33"
   },
   "outputs": [
    {
     "data": {
      "text/plain": [
       "ElasticNet(alpha=0.001)"
      ]
     },
     "execution_count": 118,
     "metadata": {},
     "output_type": "execute_result"
    }
   ],
   "source": [
    "# Fit the model to the training data\n",
    "en_reg.fit(X_train, y_train)"
   ]
  },
  {
   "cell_type": "code",
   "execution_count": 119,
   "id": "_C9xasBb-vYD",
   "metadata": {
    "id": "_C9xasBb-vYD"
   },
   "outputs": [],
   "source": [
    "\n",
    "# Make predictions on the testing data\n",
    "y_pred = en_reg.predict(X_test)"
   ]
  },
  {
   "cell_type": "code",
   "execution_count": 120,
   "id": "-9ffGpW9_Se7",
   "metadata": {
    "colab": {
     "base_uri": "https://localhost:8080/"
    },
    "id": "-9ffGpW9_Se7",
    "outputId": "5e93d36a-43c5-433d-c640-4d767588cf7b"
   },
   "outputs": [
    {
     "name": "stdout",
     "output_type": "stream",
     "text": [
      "0.043686636200045516\n",
      "0.0036795502433823587\n",
      "0.06065929642999792\n"
     ]
    }
   ],
   "source": [
    "from sklearn.metrics import mean_absolute_error, mean_squared_error\n",
    "mae=mean_absolute_error(y_test,y_pred)\n",
    "mse=mean_squared_error(y_test,y_pred)\n",
    "rmse=np.sqrt(mse)\n",
    "print(mae)\n",
    "print(mse)\n",
    "print(rmse)\n",
    "list5=[mae,mse,rmse]"
   ]
  },
  {
   "cell_type": "markdown",
   "id": "l2zGnkkaFoZZ",
   "metadata": {
    "id": "l2zGnkkaFoZZ"
   },
   "source": [
    "## TOEFL"
   ]
  },
  {
   "cell_type": "code",
   "execution_count": 121,
   "id": "TQuQtuVR_VdS",
   "metadata": {
    "id": "TQuQtuVR_VdS"
   },
   "outputs": [],
   "source": [
    "X=df_toefl.drop(\"Chance_of_Admit\",axis=1)\n",
    "y=df_toefl['Chance_of_Admit']"
   ]
  },
  {
   "cell_type": "code",
   "execution_count": 122,
   "id": "SVmHPn29FwI2",
   "metadata": {
    "id": "SVmHPn29FwI2"
   },
   "outputs": [],
   "source": [
    "# Split the data into training and testing sets\n",
    "X_train, X_test, y_train, y_test = train_test_split(X, y, test_size=0.33, random_state=42)"
   ]
  },
  {
   "cell_type": "code",
   "execution_count": 123,
   "id": "hByv5fsVFwET",
   "metadata": {
    "id": "hByv5fsVFwET"
   },
   "outputs": [],
   "source": [
    "# Create an Elastic Net regression object\n",
    "en_reg = ElasticNet(alpha=0.001,max_iter=1000)#, l1_ratio=0.5,random_state=42)"
   ]
  },
  {
   "cell_type": "code",
   "execution_count": 124,
   "id": "UcSADUOJFv_h",
   "metadata": {
    "colab": {
     "base_uri": "https://localhost:8080/"
    },
    "id": "UcSADUOJFv_h",
    "outputId": "bed6188b-1df3-40fa-9440-fa63e04ac6e2"
   },
   "outputs": [
    {
     "data": {
      "text/plain": [
       "ElasticNet(alpha=0.001)"
      ]
     },
     "execution_count": 124,
     "metadata": {},
     "output_type": "execute_result"
    }
   ],
   "source": [
    "# Fit the model to the training data\n",
    "en_reg.fit(X_train, y_train)"
   ]
  },
  {
   "cell_type": "code",
   "execution_count": 125,
   "id": "m9gw_wfqFv65",
   "metadata": {
    "id": "m9gw_wfqFv65"
   },
   "outputs": [],
   "source": [
    "# Make predictions on the testing data\n",
    "y_pred = en_reg.predict(X_test)"
   ]
  },
  {
   "cell_type": "code",
   "execution_count": 126,
   "id": "FWpqr9eHFv1z",
   "metadata": {
    "colab": {
     "base_uri": "https://localhost:8080/"
    },
    "id": "FWpqr9eHFv1z",
    "outputId": "f3943ab0-837d-4235-856a-d462bce70cea"
   },
   "outputs": [
    {
     "name": "stdout",
     "output_type": "stream",
     "text": [
      "0.043686636200045516\n",
      "0.0036795502433823587\n",
      "0.06065929642999792\n"
     ]
    }
   ],
   "source": [
    "from sklearn.metrics import mean_absolute_error, mean_squared_error\n",
    "mae=mean_absolute_error(y_test,y_pred)\n",
    "mse=mean_squared_error(y_test,y_pred)\n",
    "rmse=np.sqrt(mse)\n",
    "print(mae)\n",
    "print(mse)\n",
    "print(rmse)\n",
    "list6=[mae,mse,rmse]"
   ]
  },
  {
   "cell_type": "code",
   "execution_count": 127,
   "id": "xhPOCfnpGCOj",
   "metadata": {
    "colab": {
     "base_uri": "https://localhost:8080/"
    },
    "id": "xhPOCfnpGCOj",
    "outputId": "41b15a4a-dab3-4706-c6ce-001717db3dac"
   },
   "outputs": [
    {
     "name": "stdout",
     "output_type": "stream",
     "text": [
      "mlr =[0.042567844523082654, 0.003619741854714961, 0.060164290527811935]\n",
      " poly=[0.04244206361767354, 0.0035592010816131083, 0.0596590402337576]\n",
      "elastic net=[0.043686636200045516, 0.0036795502433823587, 0.06065929642999792]\n"
     ]
    }
   ],
   "source": [
    "print(f\"mlr ={list1}\\n poly={list3}\\nelastic net={list5}\")"
   ]
  },
  {
   "cell_type": "code",
   "execution_count": null,
   "id": "McIq0QAeGJk9",
   "metadata": {
    "id": "McIq0QAeGJk9"
   },
   "outputs": [],
   "source": []
  },
  {
   "cell_type": "markdown",
   "id": "QXU440QkIcBo",
   "metadata": {
    "id": "QXU440QkIcBo"
   },
   "source": [
    "# Random Forest Regression"
   ]
  },
  {
   "cell_type": "markdown",
   "id": "5X-KB2_2IoNZ",
   "metadata": {
    "id": "5X-KB2_2IoNZ"
   },
   "source": [
    "## GRE"
   ]
  },
  {
   "cell_type": "code",
   "execution_count": 128,
   "id": "FDE2eHWSIgSy",
   "metadata": {
    "id": "FDE2eHWSIgSy"
   },
   "outputs": [],
   "source": [
    "from sklearn.ensemble import RandomForestRegressor"
   ]
  },
  {
   "cell_type": "code",
   "execution_count": 129,
   "id": "wcLarLwoMebC",
   "metadata": {
    "id": "wcLarLwoMebC"
   },
   "outputs": [],
   "source": [
    "x=df_gre.drop(\"Chance_of_Admit\",axis=1)\n",
    "y=df_gre['Chance_of_Admit']"
   ]
  },
  {
   "cell_type": "code",
   "execution_count": 130,
   "id": "zNqY6bDmIlbK",
   "metadata": {
    "id": "zNqY6bDmIlbK"
   },
   "outputs": [],
   "source": [
    "# Split the data into training and testing sets\n",
    "X_train, X_test, y_train, y_test = train_test_split(X, y, test_size=0.33, random_state=42)"
   ]
  },
  {
   "cell_type": "code",
   "execution_count": 131,
   "id": "tqj72Y7VIlTS",
   "metadata": {
    "id": "tqj72Y7VIlTS"
   },
   "outputs": [],
   "source": [
    "# Create a Random Forest regression object with 100 trees\n",
    "rf_reg = RandomForestRegressor(n_estimators=100)"
   ]
  },
  {
   "cell_type": "code",
   "execution_count": 132,
   "id": "lDWRYfAwIlMq",
   "metadata": {
    "colab": {
     "base_uri": "https://localhost:8080/"
    },
    "id": "lDWRYfAwIlMq",
    "outputId": "45dbf077-9622-40c9-ddff-19f5cbbcdfa3"
   },
   "outputs": [
    {
     "data": {
      "text/plain": [
       "RandomForestRegressor()"
      ]
     },
     "execution_count": 132,
     "metadata": {},
     "output_type": "execute_result"
    }
   ],
   "source": [
    "# Fit the model to the training data\n",
    "rf_reg.fit(X_train, y_train)"
   ]
  },
  {
   "cell_type": "code",
   "execution_count": 133,
   "id": "Rmhf2k4YIlGa",
   "metadata": {
    "id": "Rmhf2k4YIlGa"
   },
   "outputs": [],
   "source": [
    "# Make predictions on the testing data\n",
    "y_pred = rf_reg.predict(X_test)"
   ]
  },
  {
   "cell_type": "code",
   "execution_count": 134,
   "id": "m0QCXPB-Ik-K",
   "metadata": {
    "colab": {
     "base_uri": "https://localhost:8080/"
    },
    "id": "m0QCXPB-Ik-K",
    "outputId": "3b26ed15-089e-403f-9b42-5c7018f46002"
   },
   "outputs": [
    {
     "name": "stdout",
     "output_type": "stream",
     "text": [
      "0.04507393939393942\n",
      "0.0041667483636363715\n",
      "0.06455035525569454\n"
     ]
    }
   ],
   "source": [
    "from sklearn.metrics import mean_absolute_error, mean_squared_error\n",
    "mae=mean_absolute_error(y_test,y_pred)\n",
    "mse=mean_squared_error(y_test,y_pred)\n",
    "rmse=np.sqrt(mse)\n",
    "print(mae)\n",
    "print(mse)\n",
    "print(rmse)\n",
    "list7=[mae,mse,rmse]"
   ]
  },
  {
   "cell_type": "markdown",
   "id": "CRgnZY_GNOCb",
   "metadata": {
    "id": "CRgnZY_GNOCb"
   },
   "source": [
    "##  TOEFL\n"
   ]
  },
  {
   "cell_type": "code",
   "execution_count": 135,
   "id": "CjoXzH45Mpf7",
   "metadata": {
    "id": "CjoXzH45Mpf7"
   },
   "outputs": [],
   "source": [
    "X=df_toefl.drop(\"Chance_of_Admit\",axis=1)\n",
    "y=df_toefl['Chance_of_Admit']"
   ]
  },
  {
   "cell_type": "code",
   "execution_count": 136,
   "id": "0SUioJK1NW1K",
   "metadata": {
    "id": "0SUioJK1NW1K"
   },
   "outputs": [],
   "source": [
    "# Split the data into training and testing sets\n",
    "X_train, X_test, y_train, y_test = train_test_split(X, y, test_size=0.33, random_state=42)"
   ]
  },
  {
   "cell_type": "code",
   "execution_count": 137,
   "id": "HO8SA6BpNWsD",
   "metadata": {
    "id": "HO8SA6BpNWsD"
   },
   "outputs": [],
   "source": [
    "# Create a Random Forest regression object with 100 trees\n",
    "rf_reg = RandomForestRegressor(n_estimators=100)"
   ]
  },
  {
   "cell_type": "code",
   "execution_count": 138,
   "id": "ZJFyIX17NWft",
   "metadata": {
    "colab": {
     "base_uri": "https://localhost:8080/"
    },
    "id": "ZJFyIX17NWft",
    "outputId": "37ed440d-ec4a-4831-e72c-05bf3644d9a4"
   },
   "outputs": [
    {
     "data": {
      "text/plain": [
       "RandomForestRegressor()"
      ]
     },
     "execution_count": 138,
     "metadata": {},
     "output_type": "execute_result"
    }
   ],
   "source": [
    "# Fit the model to the training data\n",
    "rf_reg.fit(X_train, y_train)"
   ]
  },
  {
   "cell_type": "code",
   "execution_count": 139,
   "id": "U1lAcyI2NWbD",
   "metadata": {
    "id": "U1lAcyI2NWbD"
   },
   "outputs": [],
   "source": [
    "# Make predictions on the testing data\n",
    "y_pred = rf_reg.predict(X_test)"
   ]
  },
  {
   "cell_type": "code",
   "execution_count": 140,
   "id": "gVMeSB2vNWXr",
   "metadata": {
    "colab": {
     "base_uri": "https://localhost:8080/"
    },
    "id": "gVMeSB2vNWXr",
    "outputId": "7eaf0794-d937-4e00-e155-762bb1289f6c"
   },
   "outputs": [
    {
     "name": "stdout",
     "output_type": "stream",
     "text": [
      "0.04435515151515157\n",
      "0.004025099757575763\n",
      "0.06344367389721188\n"
     ]
    }
   ],
   "source": [
    "from sklearn.metrics import mean_absolute_error, mean_squared_error\n",
    "mae=mean_absolute_error(y_test,y_pred)\n",
    "mse=mean_squared_error(y_test,y_pred)\n",
    "rmse=np.sqrt(mse)\n",
    "print(mae)\n",
    "print(mse)\n",
    "print(rmse)\n",
    "list8=[mae,mse,rmse]"
   ]
  },
  {
   "cell_type": "markdown",
   "id": "1qRfykMgPFGk",
   "metadata": {
    "id": "1qRfykMgPFGk"
   },
   "source": [
    "# SVM Regression"
   ]
  },
  {
   "cell_type": "markdown",
   "id": "Yqr_mk4VPjWo",
   "metadata": {
    "id": "Yqr_mk4VPjWo"
   },
   "source": [
    "## GRE"
   ]
  },
  {
   "cell_type": "code",
   "execution_count": 141,
   "id": "TpMEF3XCNePg",
   "metadata": {
    "id": "TpMEF3XCNePg"
   },
   "outputs": [],
   "source": [
    "from sklearn.svm import SVR"
   ]
  },
  {
   "cell_type": "code",
   "execution_count": 142,
   "id": "2qTyaZtLPXT4",
   "metadata": {
    "id": "2qTyaZtLPXT4"
   },
   "outputs": [],
   "source": [
    "x=df_gre.drop(\"Chance_of_Admit\",axis=1)\n",
    "y=df_gre['Chance_of_Admit']"
   ]
  },
  {
   "cell_type": "code",
   "execution_count": 143,
   "id": "yRyVjKr7PQtm",
   "metadata": {
    "id": "yRyVjKr7PQtm"
   },
   "outputs": [],
   "source": [
    "# Split the data into training and testing sets\n",
    "X_train, X_test, y_train, y_test = train_test_split(X, y, test_size=0.33, random_state=42)"
   ]
  },
  {
   "cell_type": "code",
   "execution_count": 144,
   "id": "lACAqX4TPQnN",
   "metadata": {
    "id": "lACAqX4TPQnN"
   },
   "outputs": [],
   "source": [
    "# Create an SVM regression object with a linear kernel\n",
    "svm_reg = SVR(kernel='linear')"
   ]
  },
  {
   "cell_type": "code",
   "execution_count": 145,
   "id": "OVEitPEoPQgz",
   "metadata": {
    "colab": {
     "base_uri": "https://localhost:8080/"
    },
    "id": "OVEitPEoPQgz",
    "outputId": "abc34989-aee6-4053-dc21-9ad8a0a87038"
   },
   "outputs": [
    {
     "data": {
      "text/plain": [
       "SVR(kernel='linear')"
      ]
     },
     "execution_count": 145,
     "metadata": {},
     "output_type": "execute_result"
    }
   ],
   "source": [
    "# Fit the model to the training data\n",
    "svm_reg.fit(X_train, y_train)"
   ]
  },
  {
   "cell_type": "code",
   "execution_count": 146,
   "id": "eR5uYQsKPQaz",
   "metadata": {
    "id": "eR5uYQsKPQaz"
   },
   "outputs": [],
   "source": [
    "# Make predictions on the testing data\n",
    "y_pred = svm_reg.predict(X_test)"
   ]
  },
  {
   "cell_type": "code",
   "execution_count": 147,
   "id": "LJZlzqmCPQRs",
   "metadata": {
    "colab": {
     "base_uri": "https://localhost:8080/"
    },
    "id": "LJZlzqmCPQRs",
    "outputId": "1b8b38b7-8f9e-4ad4-8d1f-a35f5316e6fd"
   },
   "outputs": [
    {
     "name": "stdout",
     "output_type": "stream",
     "text": [
      "0.049320569411251965\n",
      "0.004149586322502182\n",
      "0.0644172827935344\n"
     ]
    }
   ],
   "source": [
    "from sklearn.metrics import mean_absolute_error, mean_squared_error\n",
    "mae=mean_absolute_error(y_test,y_pred)\n",
    "mse=mean_squared_error(y_test,y_pred)\n",
    "rmse=np.sqrt(mse)\n",
    "print(mae)\n",
    "print(mse)\n",
    "print(rmse)\n",
    "list9=[mae,mse,rmse]"
   ]
  },
  {
   "cell_type": "markdown",
   "id": "pnRHvYqCQCzj",
   "metadata": {
    "id": "pnRHvYqCQCzj"
   },
   "source": [
    "## TOEFL"
   ]
  },
  {
   "cell_type": "code",
   "execution_count": 148,
   "id": "6pOicI22Ppuu",
   "metadata": {
    "id": "6pOicI22Ppuu"
   },
   "outputs": [],
   "source": [
    "X=df_toefl.drop(\"Chance_of_Admit\",axis=1)\n",
    "y=df_toefl['Chance_of_Admit']"
   ]
  },
  {
   "cell_type": "code",
   "execution_count": 149,
   "id": "5u-Kr9jOQNT0",
   "metadata": {
    "id": "5u-Kr9jOQNT0"
   },
   "outputs": [],
   "source": [
    "# Split the data into training and testing sets\n",
    "X_train, X_test, y_train, y_test = train_test_split(X, y, test_size=0.33, random_state=42)"
   ]
  },
  {
   "cell_type": "code",
   "execution_count": 150,
   "id": "0xggx9xTQNQH",
   "metadata": {
    "id": "0xggx9xTQNQH"
   },
   "outputs": [],
   "source": [
    "# Create an SVM regression object with a linear kernel\n",
    "svm_reg = SVR(kernel='linear')"
   ]
  },
  {
   "cell_type": "code",
   "execution_count": 151,
   "id": "b7o4mhIOQNMa",
   "metadata": {
    "colab": {
     "base_uri": "https://localhost:8080/"
    },
    "id": "b7o4mhIOQNMa",
    "outputId": "c2b601e1-8f87-4b65-e472-75adca509c1b"
   },
   "outputs": [
    {
     "data": {
      "text/plain": [
       "SVR(kernel='linear')"
      ]
     },
     "execution_count": 151,
     "metadata": {},
     "output_type": "execute_result"
    }
   ],
   "source": [
    "# Fit the model to the training data\n",
    "svm_reg.fit(X_train, y_train)"
   ]
  },
  {
   "cell_type": "code",
   "execution_count": 152,
   "id": "zBo8UnQgQNIy",
   "metadata": {
    "id": "zBo8UnQgQNIy"
   },
   "outputs": [],
   "source": [
    "# Make predictions on the testing data\n",
    "y_pred = svm_reg.predict(X_test)"
   ]
  },
  {
   "cell_type": "code",
   "execution_count": 153,
   "id": "sozjrmHXQNB9",
   "metadata": {
    "colab": {
     "base_uri": "https://localhost:8080/"
    },
    "id": "sozjrmHXQNB9",
    "outputId": "ee8d7848-6aa0-479d-8365-7f3087cd8d48"
   },
   "outputs": [
    {
     "name": "stdout",
     "output_type": "stream",
     "text": [
      "0.049320569411251965\n",
      "0.004149586322502182\n",
      "0.0644172827935344\n"
     ]
    }
   ],
   "source": [
    "from sklearn.metrics import mean_absolute_error, mean_squared_error\n",
    "mae=mean_absolute_error(y_test,y_pred)\n",
    "mse=mean_squared_error(y_test,y_pred)\n",
    "rmse=np.sqrt(mse)\n",
    "print(mae)\n",
    "print(mse)\n",
    "print(rmse)\n",
    "list10=[mae,mse,rmse]"
   ]
  },
  {
   "cell_type": "markdown",
   "id": "RRv31muM3DEa",
   "metadata": {
    "id": "RRv31muM3DEa"
   },
   "source": [
    "# Performance Of All the Models"
   ]
  },
  {
   "cell_type": "code",
   "execution_count": 154,
   "id": "VGmM7c2pQcUo",
   "metadata": {
    "colab": {
     "base_uri": "https://localhost:8080/"
    },
    "id": "VGmM7c2pQcUo",
    "outputId": "337f3f08-9b5b-4b3a-c89b-04ae0b0eb5f9"
   },
   "outputs": [
    {
     "name": "stdout",
     "output_type": "stream",
     "text": [
      "              |    GRE                                                             |     TOEFL      \n",
      "______________|____________________________________________________________________|________________________________________________________________________\n",
      "              |mae                   |mse                  |rmse                   |mae                     |mse                    |rmse                     \n",
      "MLR           |0.042567844523082654   |0.003619741854714961 |0.060164290527811935    |  0.04357524433205943   |0.003666216316933468   |0.06054928832722535   | \n",
      "POLY REG      |0.04244206361767354  |0.0035592010816131083 |0.0596590402337576   |  0.04214814686151191   |0.0036332201406713803  |0.06027619879082771   | \n",
      "ELASTICNET REG|0.043686636200045516   |0.0036795502433823587|0.06065929642999792    |  0.043686636200045516   |0.0036795502433823587  |0.06065929642999792   | \n",
      "RFR           |0.04507393939393942   |0.0041667483636363715 |0.06455035525569454    |  0.04435515151515157   |0.004025099757575763   |0.06344367389721188   | \n",
      "SVM REG       |0.049320569411251965  |0.004149586322502182 |0.0644172827935344     |  0.049320569411251965  |0.004149586322502182   |0.0644172827935344    | \n"
     ]
    }
   ],
   "source": [
    "print(\"              |    GRE                                                             |     TOEFL      \")\n",
    "print(\"______________|____________________________________________________________________|________________________________________________________________________\")\n",
    "print(\"              |mae                   |mse                  |rmse                   |mae                     |mse                    |rmse                     \")\n",
    "print(f\"MLR           |{list1[0]}   |{list1[1]} |{list1[2]}    |  {list2[0]}   |{list2[1]}   |{list2[2]}   | \")\n",
    "print(f\"POLY REG      |{list3[0]}  |{list3[1]} |{list3[2]}   |  {list4[0]}   |{list4[1]}  |{list4[2]}   | \")\n",
    "print(f\"ELASTICNET REG|{list5[0]}   |{list5[1]}|{list5[2]}    |  {list6[0]}   |{list6[1]}  |{list6[2]}   | \")\n",
    "print(f\"RFR           |{list7[0]}   |{list7[1]} |{list7[2]}    |  {list8[0]}   |{list8[1]}   |{list8[2]}   | \")\n",
    "print(f\"SVM REG       |{list9[0]}  |{list9[1]} |{list9[2]}     |  {list10[0]}  |{list10[1]}   |{list10[2]}    | \")"
   ]
  },
  {
   "cell_type": "markdown",
   "id": "329a8e68",
   "metadata": {
    "id": "5rrequBdQ8IL"
   },
   "source": [
    " # Model deployment"
   ]
  },
  {
   "cell_type": "code",
   "execution_count": 221,
   "id": "38fb1167",
   "metadata": {},
   "outputs": [],
   "source": [
    "import pickle"
   ]
  },
  {
   "cell_type": "code",
   "execution_count": 222,
   "id": "5e437e23",
   "metadata": {},
   "outputs": [],
   "source": [
    "filename='trained_gre_model.sav'\n",
    "pickle.dump(gre_polynomial_model,open(filename,'wb'))\n"
   ]
  },
  {
   "cell_type": "code",
   "execution_count": 223,
   "id": "c1f10ff5",
   "metadata": {},
   "outputs": [],
   "source": [
    "loaded_model=pickle.load(open('trained_gre_model.sav','rb'))\n"
   ]
  },
  {
   "cell_type": "code",
   "execution_count": 224,
   "id": "5879fcfd",
   "metadata": {},
   "outputs": [],
   "source": [
    "pred=loaded_model.predict(polynomial_converter.fit_transform([[337,4,4.5,4.5,9.65,1]])) "
   ]
  },
  {
   "cell_type": "code",
   "execution_count": 213,
   "id": "d5f9be30",
   "metadata": {
    "scrolled": true
   },
   "outputs": [
    {
     "name": "stdout",
     "output_type": "stream",
     "text": [
      "[0.94203816]\n"
     ]
    }
   ],
   "source": [
    "print(pred)"
   ]
  },
  {
   "cell_type": "code",
   "execution_count": 251,
   "id": "2cbc0d06",
   "metadata": {},
   "outputs": [],
   "source": [
    "filename2='trained_toefl_model.sav'\n",
    "pickle.dump(toefl_polynomial_model,open(filename2,'wb'))"
   ]
  },
  {
   "cell_type": "code",
   "execution_count": 252,
   "id": "ce6cb4d4",
   "metadata": {},
   "outputs": [],
   "source": [
    "loaded_model2=pickle.load(open('trained_toefl_model.sav','rb'))"
   ]
  },
  {
   "cell_type": "code",
   "execution_count": 253,
   "id": "9c156f34",
   "metadata": {},
   "outputs": [],
   "source": [
    "pred=loaded_model2.predict(polynomial_converter.fit_transform([[118,4,4.5,4.5,9.65,1]]))"
   ]
  },
  {
   "cell_type": "code",
   "execution_count": 254,
   "id": "85f715c9",
   "metadata": {},
   "outputs": [
    {
     "data": {
      "text/plain": [
       "array([0.93804558])"
      ]
     },
     "execution_count": 254,
     "metadata": {},
     "output_type": "execute_result"
    }
   ],
   "source": [
    "pred"
   ]
  },
  {
   "cell_type": "markdown",
   "id": "5d8cce24",
   "metadata": {},
   "source": [
    "# model is giving acceptable approximate value"
   ]
  },
  {
   "cell_type": "code",
   "execution_count": 214,
   "id": "60b9acd6",
   "metadata": {},
   "outputs": [
    {
     "name": "stdout",
     "output_type": "stream",
     "text": [
      "Collecting pickle-mixin\n",
      "  Downloading pickle-mixin-1.0.2.tar.gz (5.1 kB)\n",
      "Building wheels for collected packages: pickle-mixin\n",
      "  Building wheel for pickle-mixin (setup.py): started\n",
      "  Building wheel for pickle-mixin (setup.py): finished with status 'done'\n",
      "  Created wheel for pickle-mixin: filename=pickle_mixin-1.0.2-py3-none-any.whl size=6008 sha256=e39e3fe370f1a9c5a0452e682e9cf80ec2def9f9ced7e6e79282f89fa7d09805\n",
      "  Stored in directory: c:\\users\\dev patel\\appdata\\local\\pip\\cache\\wheels\\58\\c6\\8b\\061bd4edc8cea2b2235758c3e50473d08499236fbfdd21e6b3\n",
      "Successfully built pickle-mixin\n",
      "Installing collected packages: pickle-mixin\n",
      "Successfully installed pickle-mixin-1.0.2\n",
      "Note: you may need to restart the kernel to use updated packages.\n"
     ]
    }
   ],
   "source": [
    "pip install pickle-mixin"
   ]
  },
  {
   "cell_type": "code",
   "execution_count": null,
   "id": "8b6fc10b",
   "metadata": {},
   "outputs": [],
   "source": []
  }
 ],
 "metadata": {
  "colab": {
   "collapsed_sections": [
    "d2e4d7ca",
    "-97S4PwUlmpI",
    "cezvR9opo_fC",
    "bzH4cdw9GPDG",
    "h7zqJgVhgYHn",
    "y9u-RBwqFlKx",
    "l2zGnkkaFoZZ",
    "QXU440QkIcBo",
    "1qRfykMgPFGk"
   ],
   "provenance": []
  },
  "kernelspec": {
   "display_name": "Python 3 (ipykernel)",
   "language": "python",
   "name": "python3"
  },
  "language_info": {
   "codemirror_mode": {
    "name": "ipython",
    "version": 3
   },
   "file_extension": ".py",
   "mimetype": "text/x-python",
   "name": "python",
   "nbconvert_exporter": "python",
   "pygments_lexer": "ipython3",
   "version": "3.9.12"
  }
 },
 "nbformat": 4,
 "nbformat_minor": 5
}
