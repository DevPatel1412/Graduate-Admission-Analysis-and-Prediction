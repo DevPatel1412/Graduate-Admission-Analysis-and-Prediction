{
 "cells": [
  {
   "cell_type": "code",
   "execution_count": null,
   "id": "3932a4f9",
   "metadata": {},
   "outputs": [],
   "source": [
    "import streamlit as st\n",
    "import pandas as pd\n",
    "import numpy as np\n",
    "import pickle\n",
    "from sklearn.preprocessing import PolynomialFeatures\n",
    "\n",
    "# Load the saved models\n",
    "gre_model = pickle.load(open('\"C:/Users/Dev Patel/Documents/Collage_files/Team_4331 (COE) Project/trained_gre_model.sav\"', 'rb'))\n",
    "toefl_model = pickle.load(open('\"C:/Users/Dev Patel/Documents/Collage_files/Team_4331 (COE) Project/trained_toefl_model.sav\"', 'rb'))\n",
    "\n",
    "# Define a function to predict the admission chance\n",
    "def predict_admission_chance(model, gre_score, toefl_score, cgpa, university_rating, sop, lor, research):\n",
    "    # Create a NumPy array with the input values\n",
    "    input_data = np.array([[gre_score, toefl_score, cgpa, university_rating, sop, lor, research]])\n",
    "    #polynomial model required polynomial features\n",
    "    X_poly = poly.fit_transform(input_data)\n",
    "    # Use the model to make a prediction\n",
    "    prediction = model.predict(X_poly)\n",
    "    # Return the predicted admission chance (as a float)\n",
    "    return float(prediction[0])\n",
    "\n",
    "# Define the input form for GRE score\n",
    "st.write('# Admission Chance Prediction (GRE Score)')\n",
    "gre_score = st.slider('GRE Score (out of 340)', min_value=0, max_value=340, value=300, step=1)\n",
    "cgpa = st.slider('CGPA (out of 10)', min_value=0.0, max_value=10.0, value=8.0, step=0.1)\n",
    "university_rating = st.slider('University Rating (out of 5)', min_value=1, max_value=5, value=3, step=1)\n",
    "sop = st.slider('Statement of Purpose (out of 5)', min_value=1, max_value=5, value=3, step=1)\n",
    "lor = st.slider('Letter of Recommendation (out of 5)', min_value=1, max_value=5, value=3, step=1)\n",
    "research = st.radio('Research Experience', options=[0, 1], index=0)\n",
    "\n",
    "# Use the predict_admission_chance function to make a prediction with the GRE model\n",
    "gre_prediction = predict_admission_chance(gre_model, gre_score, 0, cgpa, university_rating, sop, lor, research)\n",
    "\n",
    "# Display the predicted admission chance to the user\n",
    "st.write('## Predicted Admission Chance (GRE Score)')\n",
    "st.write(f'{gre_prediction:.2%}')\n",
    "\n",
    "# Define the input form for TOEFL score\n",
    "st.write('# Admission Chance Prediction (TOEFL Score)')\n",
    "toefl_score = st.slider('TOEFL Score (out of 120)', min_value=0, max_value=120, value=100, step=1)\n",
    "cgpa = st.slider('CGPA (out of 10)', min_value=0.0, max_value=10.0, value=8.0, step=0.1)\n",
    "university_rating = st.slider('University Rating (out of 5)', min_value=1, max_value=5, value=3, step=1)\n",
    "sop = st.slider('Statement of Purpose (out of 5)', min_value=1, max_value=5, value=3, step=1)\n",
    "lor = st.slider('Letter of Recommendation (out of 5)', min_value=1, max_value=5, value=3, step=1)\n",
    "research = st.radio('Research Experience', options=[0, 1], index=0)\n",
    "\n",
    "# Use the predict_admission_chance function to make a prediction with the TOEFL model\n",
    "toefl_prediction = predict_admission_chance(toefl_model, 0, toefl_score, cgpa, university_rating, sop, lor, research)\n",
    "\n",
    "# Display the predicted admission chance to the user\n",
    "st.write\n"
   ]
  }
 ],
 "metadata": {
  "kernelspec": {
   "display_name": "Python 3 (ipykernel)",
   "language": "python",
   "name": "python3"
  },
  "language_info": {
   "codemirror_mode": {
    "name": "ipython",
    "version": 3
   },
   "file_extension": ".py",
   "mimetype": "text/x-python",
   "name": "python",
   "nbconvert_exporter": "python",
   "pygments_lexer": "ipython3",
   "version": "3.9.12"
  }
 },
 "nbformat": 4,
 "nbformat_minor": 5
}
